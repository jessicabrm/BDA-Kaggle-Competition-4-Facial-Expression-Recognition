{
 "cells": [
  {
   "cell_type": "code",
   "execution_count": 1,
   "id": "c2497f8b",
   "metadata": {
    "_execution_state": "idle",
    "_uuid": "051d70d956493feee0c6d64651c6a088724dca2a",
    "execution": {
     "iopub.execute_input": "2021-10-22T09:15:30.527111Z",
     "iopub.status.busy": "2021-10-22T09:15:30.526343Z",
     "iopub.status.idle": "2021-10-22T09:15:34.412443Z",
     "shell.execute_reply": "2021-10-22T09:15:34.411201Z"
    },
    "papermill": {
     "duration": 3.93724,
     "end_time": "2021-10-22T09:15:34.412628",
     "exception": false,
     "start_time": "2021-10-22T09:15:30.475388",
     "status": "completed"
    },
    "tags": []
   },
   "outputs": [
    {
     "name": "stderr",
     "output_type": "stream",
     "text": [
      "── \u001b[1mAttaching packages\u001b[22m ─────────────────────────────────────── tidyverse 1.3.1 ──\n",
      "\n",
      "\u001b[32m✔\u001b[39m \u001b[34mggplot2\u001b[39m 3.3.5     \u001b[32m✔\u001b[39m \u001b[34mpurrr  \u001b[39m 0.3.4\n",
      "\u001b[32m✔\u001b[39m \u001b[34mtibble \u001b[39m 3.1.4     \u001b[32m✔\u001b[39m \u001b[34mdplyr  \u001b[39m 1.0.7\n",
      "\u001b[32m✔\u001b[39m \u001b[34mtidyr  \u001b[39m 1.1.3     \u001b[32m✔\u001b[39m \u001b[34mstringr\u001b[39m 1.4.0\n",
      "\u001b[32m✔\u001b[39m \u001b[34mreadr  \u001b[39m 2.0.1     \u001b[32m✔\u001b[39m \u001b[34mforcats\u001b[39m 0.5.1\n",
      "\n",
      "── \u001b[1mConflicts\u001b[22m ────────────────────────────────────────── tidyverse_conflicts() ──\n",
      "\u001b[31m✖\u001b[39m \u001b[34mdplyr\u001b[39m::\u001b[32mfilter()\u001b[39m masks \u001b[34mstats\u001b[39m::filter()\n",
      "\u001b[31m✖\u001b[39m \u001b[34mdplyr\u001b[39m::\u001b[32mlag()\u001b[39m    masks \u001b[34mstats\u001b[39m::lag()\n",
      "\n",
      "Loading required package: lattice\n",
      "\n",
      "\n",
      "Attaching package: ‘caret’\n",
      "\n",
      "\n",
      "The following object is masked from ‘package:purrr’:\n",
      "\n",
      "    lift\n",
      "\n",
      "\n",
      "The following object is masked from ‘package:httr’:\n",
      "\n",
      "    progress\n",
      "\n",
      "\n",
      "Loading required package: Matrix\n",
      "\n",
      "\n",
      "Attaching package: ‘Matrix’\n",
      "\n",
      "\n",
      "The following objects are masked from ‘package:tidyr’:\n",
      "\n",
      "    expand, pack, unpack\n",
      "\n",
      "\n",
      "Loaded glmnet 4.1-1\n",
      "\n",
      "Loading required package: foreach\n",
      "\n",
      "\n",
      "Attaching package: ‘foreach’\n",
      "\n",
      "\n",
      "The following objects are masked from ‘package:purrr’:\n",
      "\n",
      "    accumulate, when\n",
      "\n",
      "\n",
      "Loading required package: iterators\n",
      "\n",
      "Loading required package: parallel\n",
      "\n"
     ]
    },
    {
     "data": {
      "text/html": [
       "'facial-expressions-bda-2021'"
      ],
      "text/latex": [
       "'facial-expressions-bda-2021'"
      ],
      "text/markdown": [
       "'facial-expressions-bda-2021'"
      ],
      "text/plain": [
       "[1] \"facial-expressions-bda-2021\""
      ]
     },
     "metadata": {},
     "output_type": "display_data"
    }
   ],
   "source": [
    "## Importing packages\n",
    "\n",
    "library(tidyverse) # metapackage with lots of helpful functions\n",
    "library(png) # package that can be used to read png image files in a simple format\n",
    "library(caret)\n",
    "library(glmnet)\n",
    "library(doMC)\n",
    "library(dplyr)\n",
    "\n",
    "## Reading in files\n",
    "list.files(path = \"../input/\")"
   ]
  },
  {
   "cell_type": "code",
   "execution_count": 2,
   "id": "015b8102",
   "metadata": {
    "execution": {
     "iopub.execute_input": "2021-10-22T09:15:34.542704Z",
     "iopub.status.busy": "2021-10-22T09:15:34.510148Z",
     "iopub.status.idle": "2021-10-22T09:15:34.778287Z",
     "shell.execute_reply": "2021-10-22T09:15:34.776524Z"
    },
    "papermill": {
     "duration": 0.319164,
     "end_time": "2021-10-22T09:15:34.778454",
     "exception": false,
     "start_time": "2021-10-22T09:15:34.459290",
     "status": "completed"
    },
    "tags": []
   },
   "outputs": [
    {
     "data": {
      "text/html": [
       "<style>\n",
       ".list-inline {list-style: none; margin:0; padding: 0}\n",
       ".list-inline>li {display: inline-block}\n",
       ".list-inline>li:not(:last-child)::after {content: \"\\00b7\"; padding: 0 .5ex}\n",
       "</style>\n",
       "<ol class=list-inline><li>'../input/facial-expressions-bda-2021'</li><li>'../input/facial-expressions-bda-2021/ckplus'</li><li>'../input/facial-expressions-bda-2021/ckplus/test'</li><li>'../input/facial-expressions-bda-2021/ckplus/train'</li><li>'../input/facial-expressions-bda-2021/ckplus/train/anger'</li><li>'../input/facial-expressions-bda-2021/ckplus/train/disgust'</li><li>'../input/facial-expressions-bda-2021/ckplus/train/happy'</li><li>'../input/facial-expressions-bda-2021/ckplus/train/sadness'</li></ol>\n"
      ],
      "text/latex": [
       "\\begin{enumerate*}\n",
       "\\item '../input/facial-expressions-bda-2021'\n",
       "\\item '../input/facial-expressions-bda-2021/ckplus'\n",
       "\\item '../input/facial-expressions-bda-2021/ckplus/test'\n",
       "\\item '../input/facial-expressions-bda-2021/ckplus/train'\n",
       "\\item '../input/facial-expressions-bda-2021/ckplus/train/anger'\n",
       "\\item '../input/facial-expressions-bda-2021/ckplus/train/disgust'\n",
       "\\item '../input/facial-expressions-bda-2021/ckplus/train/happy'\n",
       "\\item '../input/facial-expressions-bda-2021/ckplus/train/sadness'\n",
       "\\end{enumerate*}\n"
      ],
      "text/markdown": [
       "1. '../input/facial-expressions-bda-2021'\n",
       "2. '../input/facial-expressions-bda-2021/ckplus'\n",
       "3. '../input/facial-expressions-bda-2021/ckplus/test'\n",
       "4. '../input/facial-expressions-bda-2021/ckplus/train'\n",
       "5. '../input/facial-expressions-bda-2021/ckplus/train/anger'\n",
       "6. '../input/facial-expressions-bda-2021/ckplus/train/disgust'\n",
       "7. '../input/facial-expressions-bda-2021/ckplus/train/happy'\n",
       "8. '../input/facial-expressions-bda-2021/ckplus/train/sadness'\n",
       "\n",
       "\n"
      ],
      "text/plain": [
       "[1] \"../input/facial-expressions-bda-2021\"                     \n",
       "[2] \"../input/facial-expressions-bda-2021/ckplus\"              \n",
       "[3] \"../input/facial-expressions-bda-2021/ckplus/test\"         \n",
       "[4] \"../input/facial-expressions-bda-2021/ckplus/train\"        \n",
       "[5] \"../input/facial-expressions-bda-2021/ckplus/train/anger\"  \n",
       "[6] \"../input/facial-expressions-bda-2021/ckplus/train/disgust\"\n",
       "[7] \"../input/facial-expressions-bda-2021/ckplus/train/happy\"  \n",
       "[8] \"../input/facial-expressions-bda-2021/ckplus/train/sadness\""
      ]
     },
     "metadata": {},
     "output_type": "display_data"
    }
   ],
   "source": [
    "# Show the availabe directories\n",
    "dirs = dir(\"../input\", pattern=\"[^g]$\", recursive=TRUE, include.dirs = TRUE, full.names = TRUE)\n",
    "dirs"
   ]
  },
  {
   "cell_type": "code",
   "execution_count": 3,
   "id": "d5e73916",
   "metadata": {
    "execution": {
     "iopub.execute_input": "2021-10-22T09:15:34.880452Z",
     "iopub.status.busy": "2021-10-22T09:15:34.878703Z",
     "iopub.status.idle": "2021-10-22T09:15:35.019203Z",
     "shell.execute_reply": "2021-10-22T09:15:35.017330Z"
    },
    "papermill": {
     "duration": 0.193258,
     "end_time": "2021-10-22T09:15:35.019351",
     "exception": false,
     "start_time": "2021-10-22T09:15:34.826093",
     "status": "completed"
    },
    "tags": []
   },
   "outputs": [
    {
     "name": "stdout",
     "output_type": "stream",
     "text": [
      " chr [1:570] \"../input/facial-expressions-bda-2021/ckplus/train/anger/S010_004_00000018a.png\" ...\n",
      " chr [1:744] \"../input/facial-expressions-bda-2021/ckplus/train/disgust/S005_001_00000009a.png\" ...\n",
      " chr [1:870] \"../input/facial-expressions-bda-2021/ckplus/train/happy/S010_006_00000013a.png\" ...\n",
      " chr [1:354] \"../input/facial-expressions-bda-2021/ckplus/train/sadness/S011_002_00000020a.png\" ...\n",
      " chr [1:1080] \"../input/facial-expressions-bda-2021/ckplus/test/S010_004_00000017a.png\" ...\n"
     ]
    }
   ],
   "source": [
    "# Get all image files: file names ending \".png\" \n",
    "anger   = dir(grep(\"anger\",   dirs, value = TRUE), pattern = \"png$\", full.names = TRUE)\n",
    "disgust = dir(grep(\"disgust\", dirs, value = TRUE), pattern = \"png$\", full.names = TRUE)\n",
    "happy   = dir(grep(\"happy\",   dirs, value = TRUE), pattern = \"png$\", full.names = TRUE)\n",
    "sad     = dir(grep(\"sad\",     dirs, value = TRUE), pattern = \"png$\", full.names = TRUE)\n",
    "test_im = dir(grep(\"test\",    dirs, value = TRUE), pattern = \"png$\", full.names = TRUE)\n",
    "\n",
    "str(anger)\n",
    "str(disgust)\n",
    "str(happy)\n",
    "str(sad)\n",
    "str(test_im)"
   ]
  },
  {
   "cell_type": "markdown",
   "id": "784dad1a",
   "metadata": {
    "papermill": {
     "duration": 0.048349,
     "end_time": "2021-10-22T09:15:35.115640",
     "exception": false,
     "start_time": "2021-10-22T09:15:35.067291",
     "status": "completed"
    },
    "tags": []
   },
   "source": [
    "The pictures (video stills) show faces that were captured while more or less spontaneously expressing an emotion. Some of the images are repeated, but then shifted, rotated, or both. Not all are easy to classify:"
   ]
  },
  {
   "cell_type": "code",
   "execution_count": 4,
   "id": "cd16557e",
   "metadata": {
    "execution": {
     "iopub.execute_input": "2021-10-22T09:15:35.218098Z",
     "iopub.status.busy": "2021-10-22T09:15:35.216374Z",
     "iopub.status.idle": "2021-10-22T09:15:35.281432Z",
     "shell.execute_reply": "2021-10-22T09:15:35.279685Z"
    },
    "papermill": {
     "duration": 0.118319,
     "end_time": "2021-10-22T09:15:35.281578",
     "exception": false,
     "start_time": "2021-10-22T09:15:35.163259",
     "status": "completed"
    },
    "tags": []
   },
   "outputs": [
    {
     "data": {
      "text/html": [
       "<img src=\"happy.png\" width=\"200\" style=\"float:left\" /><img src=\"sad.png\" width=\"200\" style=\"float:left\" /><img src=\"anger.png\" width=\"200\" style=\"float:left\" /><img src=\"disgust.png\" width=\"200\" style=\"float:left\" />"
      ]
     },
     "metadata": {},
     "output_type": "display_data"
    }
   ],
   "source": [
    "ok = file.copy(  happy[60], \"happy.png\", overwrite = TRUE)\n",
    "ok = file.copy(    sad[61],   \"sad.png\", overwrite = TRUE)\n",
    "ok = file.copy(  anger[61], \"anger.png\", overwrite = TRUE)\n",
    "ok = file.copy(disgust[61], \"disgust.png\", overwrite = TRUE)\n",
    "IRdisplay::display_html('<img src=\"happy.png\" width=\"200\" style=\"float:left\" /><img src=\"sad.png\" width=\"200\" style=\"float:left\" /><img src=\"anger.png\" width=\"200\" style=\"float:left\" /><img src=\"disgust.png\" width=\"200\" style=\"float:left\" />')"
   ]
  },
  {
   "cell_type": "markdown",
   "id": "1d54c82e",
   "metadata": {
    "papermill": {
     "duration": 0.048152,
     "end_time": "2021-10-22T09:15:35.378278",
     "exception": false,
     "start_time": "2021-10-22T09:15:35.330126",
     "status": "completed"
    },
    "tags": []
   },
   "source": [
    "Clearly the first is a happy face, but is the second a sad face, an angry face, or both?"
   ]
  },
  {
   "cell_type": "markdown",
   "id": "e45eacd0",
   "metadata": {
    "papermill": {
     "duration": 0.048198,
     "end_time": "2021-10-22T09:15:35.475053",
     "exception": false,
     "start_time": "2021-10-22T09:15:35.426855",
     "status": "completed"
    },
    "tags": []
   },
   "source": [
    "# Data considerations\n",
    "\n",
    "It's not difficult to find out how the data were collected. This is an important question to answer about any data set you use in a machine learning project because it will determine to what new data your model will generalize.\n",
    "\n",
    "Answer the 3 most important questions for any ML project:\n",
    "\n",
    "1. Where do the data come from? (To which population will results generalize?)\n",
    "    - The data come from CK+ data base.\n",
    "2. What are candidate machine learning methods? (models? features?)\n",
    "    - Models: Prediction Tree, Ridge regression, Lasso regression, KNN, KNNS LDA, QDA,SVM\n",
    "    - Features: Raw Pixels, FreySlateFeatures, Hog Features\n",
    "3. What is the Bayes' error bound? (Any guestimate from scientific literature or web resources?)\n",
    "    - See section below about the Bayes bound per facial expression\n",
    "\n"
   ]
  },
  {
   "cell_type": "markdown",
   "id": "1953bbd4",
   "metadata": {
    "papermill": {
     "duration": 0.049136,
     "end_time": "2021-10-22T09:15:35.572929",
     "exception": false,
     "start_time": "2021-10-22T09:15:35.523793",
     "status": "completed"
    },
    "tags": []
   },
   "source": [
    "# Bayes bound\n",
    "\n",
    "To have an idea of a lower bound on the Bayes bound (i.e., the minimum accuracy that should be achievable). The best 'machine' we have at hand to recognize emotion from facial expression in the human brain. How often do human judges get it correct? In a study by Mollahosseini et al. (2018) an estimate for human classification inter-rater agreement was obtained for 11 emotions. For the four included in this data set they are:\n",
    "\n",
    "\n",
    "| disgust  |  anger  |  happy  |  sad  |\n",
    "|---------:|--------:|--------:|-------|\n",
    "|  67.6%   | 62.3%   | 79.6%   | 69.7% |\n",
    "\n",
    "\n",
    "Keep this in mind when evaluating the performance of the classifiers that you'll train.\n",
    "\n",
    "As always, it's handy to evaluate how the algorithm does on the training set: If the training set is not classified accurately, how can you expect the test set to do any better. This obvious fact is often overlooked—surprisingly."
   ]
  },
  {
   "cell_type": "markdown",
   "id": "3238674d",
   "metadata": {
    "papermill": {
     "duration": 0.048736,
     "end_time": "2021-10-22T09:15:35.670061",
     "exception": false,
     "start_time": "2021-10-22T09:15:35.621325",
     "status": "completed"
    },
    "tags": []
   },
   "source": [
    "# Import data\n",
    "\n",
    "When working with image data, you often have many more Gigabytes of raw data than you have RAM memory available. Therefore, it is often not possible to work with all data \"in memory\". Resizing images often helps, but may cause loss of information.\n",
    "\n",
    "The images for this competition are\n",
    "\n",
    "- gray scale, so we need only one *color channel* \n",
    "- are only 48 by 48 pixels\n",
    "\n",
    "Furthermore there are only 2538 pictures in the training set. Therefore, we are lucky enough to be able to retain all images in RAM, and don't have to do \"special stuff\" to handle reading in image files while fitting a model."
   ]
  },
  {
   "cell_type": "markdown",
   "id": "0ecb35dc",
   "metadata": {
    "papermill": {
     "duration": 0.048355,
     "end_time": "2021-10-22T09:15:35.767345",
     "exception": false,
     "start_time": "2021-10-22T09:15:35.718990",
     "status": "completed"
    },
    "tags": []
   },
   "source": [
    "Reading in images pixelwise is easiest: We simply store each image as a long vector of pixel intensities, row by row. Also we will need a vector that contains the emotion label for each of the images."
   ]
  },
  {
   "cell_type": "code",
   "execution_count": 5,
   "id": "727e73fe",
   "metadata": {
    "execution": {
     "iopub.execute_input": "2021-10-22T09:15:35.872695Z",
     "iopub.status.busy": "2021-10-22T09:15:35.871155Z",
     "iopub.status.idle": "2021-10-22T09:15:48.392493Z",
     "shell.execute_reply": "2021-10-22T09:15:48.389956Z"
    },
    "papermill": {
     "duration": 12.575235,
     "end_time": "2021-10-22T09:15:48.392666",
     "exception": false,
     "start_time": "2021-10-22T09:15:35.817431",
     "status": "completed"
    },
    "tags": []
   },
   "outputs": [],
   "source": [
    "# Combine all filenames into a single vector\n",
    "train_image_files = c(anger, happy, sad, disgust)\n",
    "\n",
    "# Read in the images as pixel values (discarding color channels)\n",
    "X_train = sapply(train_image_files, function(nm) c(readPNG(nm)[,,1])) %>% t() \n",
    "y = c(rep(\"anger\", length(anger)), rep(\"happy\", length(happy)), rep(\"sad\", length(sad)), rep(\"disgust\", length(disgust)))\n",
    "\n",
    "X_test = sapply(test_im, function(nm) c(readPNG(nm)[,,1])) %>% t() \n",
    "\n",
    "\n",
    "# Change row and column names of X to something more managable\n",
    "rownames(X_train)      = gsub(\".+train/\", \"\", rownames(X_train))\n",
    "rownames(X_test) = gsub(\".+test/\",  \"\", rownames(X_test))\n",
    "\n",
    "colnames(X_train) = colnames(X_test) = paste(\"p\",1:ncol(X_train), sep=\"\")"
   ]
  },
  {
   "cell_type": "code",
   "execution_count": 6,
   "id": "b0712804",
   "metadata": {
    "execution": {
     "iopub.execute_input": "2021-10-22T09:15:48.497655Z",
     "iopub.status.busy": "2021-10-22T09:15:48.495706Z",
     "iopub.status.idle": "2021-10-22T09:15:48.527178Z",
     "shell.execute_reply": "2021-10-22T09:15:48.525450Z"
    },
    "papermill": {
     "duration": 0.085292,
     "end_time": "2021-10-22T09:15:48.527324",
     "exception": false,
     "start_time": "2021-10-22T09:15:48.442032",
     "status": "completed"
    },
    "tags": []
   },
   "outputs": [
    {
     "name": "stdout",
     "output_type": "stream",
     "text": [
      "                                    p20        p21        p22        p23\n",
      "anger/S010_004_00000018a.png 0.58039216 0.60784314 0.70196078 0.85882353\n",
      "anger/S010_004_00000018b.png 0.02745098 0.02745098 0.04313725 0.07450980\n",
      "anger/S010_004_00000018c.png 0.03529412 0.03137255 0.02745098 0.01960784\n",
      "anger/S010_004_00000018d.png 0.03921569 0.03137255 0.03137255 0.02745098\n",
      "anger/S010_004_00000018e.png 1.00000000 1.00000000 1.00000000 1.00000000\n",
      "anger/S010_004_00000018f.png 1.00000000 1.00000000 1.00000000 1.00000000\n"
     ]
    },
    {
     "data": {
      "text/plain": [
       "y\n",
       "  anger disgust   happy     sad \n",
       "    570     744     870     354 "
      ]
     },
     "metadata": {},
     "output_type": "display_data"
    },
    {
     "name": "stdout",
     "output_type": "stream",
     "text": [
      "                              p20        p21        p22        p23\n",
      "S010_004_00000017a.png 0.77647059 0.81960784 0.89803922 0.98039216\n",
      "S010_004_00000017b.png 0.46666667 0.52549020 0.63529412 0.74901961\n",
      "S010_004_00000017c.png 0.25490196 0.34509804 0.49803922 0.67450980\n",
      "S010_004_00000017d.png 0.04313725 0.03529412 0.03529412 0.02745098\n",
      "S010_004_00000017e.png 0.03921569 0.03137255 0.03137255 0.02745098\n",
      "S010_004_00000017f.png 0.07058824 0.10588235 0.14509804 0.24705882\n"
     ]
    }
   ],
   "source": [
    "# Check result (are X, X_test, and y what we expect)\n",
    "X_train[1:6,20:23] %>% print\n",
    "table(y)\n",
    "                \n",
    "X_test[1:6,20:23] %>% print"
   ]
  },
  {
   "cell_type": "markdown",
   "id": "965b0905",
   "metadata": {
    "papermill": {
     "duration": 0.049317,
     "end_time": "2021-10-22T09:15:48.626125",
     "exception": false,
     "start_time": "2021-10-22T09:15:48.576808",
     "status": "completed"
    },
    "tags": []
   },
   "source": [
    "# Helper functions"
   ]
  },
  {
   "cell_type": "code",
   "execution_count": 7,
   "id": "4127cacc",
   "metadata": {
    "execution": {
     "iopub.execute_input": "2021-10-22T09:15:48.732597Z",
     "iopub.status.busy": "2021-10-22T09:15:48.730643Z",
     "iopub.status.idle": "2021-10-22T09:15:49.026774Z",
     "shell.execute_reply": "2021-10-22T09:15:49.025070Z"
    },
    "papermill": {
     "duration": 0.351603,
     "end_time": "2021-10-22T09:15:49.026938",
     "exception": false,
     "start_time": "2021-10-22T09:15:48.675335",
     "status": "completed"
    },
    "tags": []
   },
   "outputs": [
    {
     "data": {
      "image/png": "[encoded data removed]"
     },
     "metadata": {
      "image/png": {
       "height": 240,
       "width": 240
      }
     },
     "output_type": "display_data"
    },
    {
     "data": {
      "image/png": "[encoded data removed]"
     },
     "metadata": {
      "image/png": {
       "height": 240,
       "width": 240
      }
     },
     "output_type": "display_data"
    }
   ],
   "source": [
    "# Visualization utility function\n",
    "as_image = function(x, nr = sqrt(length(x))) {\n",
    "    opar = par(mar = rep(0, 4)); \n",
    "    on.exit(par(opar)); \n",
    "    image(t(matrix(x, nr))[, nr:1], col = gray(0:255 / 255), axes = F)\n",
    "}\n",
    "\n",
    "options(repr.plot.width=4, repr.plot.height=4)\n",
    "as_image(X_train[13,])\n",
    "as_image(X_test[13,])"
   ]
  },
  {
   "cell_type": "code",
   "execution_count": 8,
   "id": "33187436",
   "metadata": {
    "execution": {
     "iopub.execute_input": "2021-10-22T09:15:49.149618Z",
     "iopub.status.busy": "2021-10-22T09:15:49.146302Z",
     "iopub.status.idle": "2021-10-22T09:15:49.498612Z",
     "shell.execute_reply": "2021-10-22T09:15:49.497078Z"
    },
    "papermill": {
     "duration": 0.420451,
     "end_time": "2021-10-22T09:15:49.498757",
     "exception": false,
     "start_time": "2021-10-22T09:15:49.078306",
     "status": "completed"
    },
    "tags": []
   },
   "outputs": [
    {
     "data": {
      "text/html": [
       "<style>\n",
       ".list-inline {list-style: none; margin:0; padding: 0}\n",
       ".list-inline>li {display: inline-block}\n",
       ".list-inline>li:not(:last-child)::after {content: \"\\00b7\"; padding: 0 .5ex}\n",
       "</style>\n",
       "<ol class=list-inline><li>48</li><li>48</li></ol>\n"
      ],
      "text/latex": [
       "\\begin{enumerate*}\n",
       "\\item 48\n",
       "\\item 48\n",
       "\\end{enumerate*}\n"
      ],
      "text/markdown": [
       "1. 48\n",
       "2. 48\n",
       "\n",
       "\n"
      ],
      "text/plain": [
       "[1] 48 48"
      ]
     },
     "metadata": {},
     "output_type": "display_data"
    }
   ],
   "source": [
    "# Input: a matrix with pixels of one image per row\n",
    "# Output: a list of pixel matrices, one image per matrix\n",
    "format_matrices = function(image_matrix, col = 48, row = 48) {\n",
    "  \n",
    "  image_pixels = list()\n",
    "  \n",
    "  for(i in 1:nrow(image_matrix)) {\n",
    "    \n",
    "    # extract pixel matrix for each image\n",
    "    image_pixels[[i]] = image_matrix[i, ] %>% matrix(ncol = col, nrow = row) \n",
    "  }\n",
    "  return(image_pixels)\n",
    "}\n",
    "\n",
    "dim(format_matrices(X_train)[[1]])"
   ]
  },
  {
   "cell_type": "markdown",
   "id": "f0e28087",
   "metadata": {
    "papermill": {
     "duration": 0.05167,
     "end_time": "2021-10-22T09:15:49.601323",
     "exception": false,
     "start_time": "2021-10-22T09:15:49.549653",
     "status": "completed"
    },
    "tags": []
   },
   "source": [
    "# Features"
   ]
  },
  {
   "cell_type": "markdown",
   "id": "a6f86060",
   "metadata": {
    "papermill": {
     "duration": 0.052436,
     "end_time": "2021-10-22T09:15:49.705321",
     "exception": false,
     "start_time": "2021-10-22T09:15:49.652885",
     "status": "completed"
    },
    "tags": []
   },
   "source": [
    "# Histogram features from edges\n",
    "\n",
    "Histogram features work best on edges. How can you detect edges? To answer that question we have to consider what an edge is: An edge is a rapid change in pixel intensities, so if we compute the difference between two consecutive pixels, and check if it is larger than a certain threshold, we can find the pixels that are at the edge of an abrupt intensity change. In principle this can be done in any possible direction (north, south, west, east, north-west, south-west, etc.), but it turns out that it is enough to do it in only two directions: north and west (or south and east for that matter). These give horizontal and vertical edges respectively. By computing differences in both north and west direction consecutively we filter out pixels that are part of a diagonal edge. "
   ]
  },
  {
   "cell_type": "code",
   "execution_count": 9,
   "id": "2f45c862",
   "metadata": {
    "execution": {
     "iopub.execute_input": "2021-10-22T09:15:49.817380Z",
     "iopub.status.busy": "2021-10-22T09:15:49.815271Z",
     "iopub.status.idle": "2021-10-22T09:15:49.974307Z",
     "shell.execute_reply": "2021-10-22T09:15:49.972577Z"
    },
    "papermill": {
     "duration": 0.215916,
     "end_time": "2021-10-22T09:15:49.974451",
     "exception": false,
     "start_time": "2021-10-22T09:15:49.758535",
     "status": "completed"
    },
    "tags": []
   },
   "outputs": [
    {
     "data": {
      "image/png": "[encoded data removed]"
     },
     "metadata": {
      "image/png": {
       "height": 240,
       "width": 960
      }
     },
     "output_type": "display_data"
    }
   ],
   "source": [
    "options(repr.plot.width=4*4, repr.plot.height=4)\n",
    "\n",
    "# Compute edges by differencing neighboring pixels\n",
    "im = matrix(X_train[756,],48)\n",
    "h_edge = im[-1,] - im[-48,] # horizontal\n",
    "v_edge = im[,-1] - im[,-48] # vertical\n",
    "d_edge = h_edge[,-1] - h_edge[,-48] # diagonal\n",
    "\n",
    "# Specify a threshold (hand tuned here on visual result)\n",
    "threshold = .0625 \n",
    "\n",
    "layout(t(1:4))\n",
    "as_image(im)\n",
    "as_image(h_edge < threshold,   47); mtext(\"horizontal edge pixels\")\n",
    "as_image(v_edge < threshold,   48); mtext(\"vertical edge pixels\")\n",
    "as_image(d_edge < threshold/2, 47); mtext(\"diagonal edge pixels\")\n",
    "#as_image((h_edge[,-1] < 0.1) & (v_edge[-1,] < 0.1), 47); mtext(\"edge pixels\")"
   ]
  },
  {
   "cell_type": "markdown",
   "id": "b29d5ebb",
   "metadata": {
    "papermill": {
     "duration": 0.053464,
     "end_time": "2021-10-22T09:15:50.080314",
     "exception": false,
     "start_time": "2021-10-22T09:15:50.026850",
     "status": "completed"
    },
    "tags": []
   },
   "source": [
    "#### The code for the FreySlateFeatures function is inspired by team 6 of 2020: https://www.kaggle.com/wesselkooy/facial-expression-recognition-team-6-round-2\n"
   ]
  },
  {
   "cell_type": "code",
   "execution_count": 10,
   "id": "db00ba33",
   "metadata": {
    "execution": {
     "iopub.execute_input": "2021-10-22T09:15:50.194000Z",
     "iopub.status.busy": "2021-10-22T09:15:50.192173Z",
     "iopub.status.idle": "2021-10-22T09:16:00.335378Z",
     "shell.execute_reply": "2021-10-22T09:16:00.333809Z"
    },
    "papermill": {
     "duration": 10.201131,
     "end_time": "2021-10-22T09:16:00.335553",
     "exception": false,
     "start_time": "2021-10-22T09:15:50.134422",
     "status": "completed"
    },
    "tags": []
   },
   "outputs": [],
   "source": [
    "# Load FreySlateFeatures function \n",
    "source(\"https://bit.ly/32um24j\")\n",
    "\n",
    "# create a edge_features function, from last year's competition, group 10\n",
    "edge_features = function(X) { \n",
    "    \n",
    "    \n",
    "# Function to compute edge histogram features\n",
    "    FeaturesH = tibble()\n",
    "    FeaturesV = tibble()\n",
    "    FeaturesD = tibble()\n",
    "    \n",
    "# threshold \n",
    "    threshold = .0625 \n",
    "    \n",
    "    # Create loop\n",
    "    for (i in 1:nrow(X)) {\n",
    "        im = matrix(X[i,],48)\n",
    "        h_edge = im[-1,] - im[-48,] # horizontal\n",
    "        v_edge = im[,-1] - im[,-48] # vertical\n",
    "        d_edge = h_edge[,-1] - h_edge[,-48] # diagonal\n",
    "                \n",
    "        FeaturesH = bind_rows(FeaturesH, FreySlateFeatures(h_edge < threshold))\n",
    "        FeaturesV = bind_rows(FeaturesV, FreySlateFeatures(v_edge < threshold))\n",
    "        FeaturesD = bind_rows(FeaturesD, FreySlateFeatures(d_edge < threshold))\n",
    "\n",
    "    }\n",
    "\n",
    "    # change colnames of the data frames\n",
    "    colnames(FeaturesH) = paste(\"H\",colnames(FeaturesH),sep = \"_\")\n",
    "    colnames(FeaturesV) = paste(\"V\",colnames(FeaturesV),sep = \"_\")\n",
    "    colnames(FeaturesD) = paste(\"D\",colnames(FeaturesD),sep = \"_\")\n",
    "    \n",
    "\n",
    "    Features_edge = FeaturesH %>% \n",
    "    cbind(FeaturesV) %>% \n",
    "    cbind(FeaturesD) \n",
    "    \n",
    "    return(Features_edge) \n",
    "}\n",
    "\n",
    "edge_data = edge_features(X_train)"
   ]
  },
  {
   "cell_type": "markdown",
   "id": "96c79294",
   "metadata": {
    "papermill": {
     "duration": 0.055205,
     "end_time": "2021-10-22T09:16:00.446195",
     "exception": false,
     "start_time": "2021-10-22T09:16:00.390990",
     "status": "completed"
    },
    "tags": []
   },
   "source": [
    "# Histogram of Oriented Gradients (HOG) features\n",
    "\n",
    "To calculate the HOG features we followed the steps of this website: https://learnopencv.com/histogram-of-oriented-gradients/\n",
    "\n",
    "Step 2 : Calculate the Gradient Images"
   ]
  },
  {
   "cell_type": "code",
   "execution_count": 11,
   "id": "e8c021c8",
   "metadata": {
    "execution": {
     "iopub.execute_input": "2021-10-22T09:16:00.558409Z",
     "iopub.status.busy": "2021-10-22T09:16:00.556757Z",
     "iopub.status.idle": "2021-10-22T09:16:00.571296Z",
     "shell.execute_reply": "2021-10-22T09:16:00.569899Z"
    },
    "papermill": {
     "duration": 0.07216,
     "end_time": "2021-10-22T09:16:00.571486",
     "exception": false,
     "start_time": "2021-10-22T09:16:00.499326",
     "status": "completed"
    },
    "tags": []
   },
   "outputs": [],
   "source": [
    "# Input: a pixel matrix\n",
    "# Output: x and y gradient of the image\n",
    "get_gradients = function(formatted_matrices, size = 48) {   \n",
    "\n",
    "  add_zeros_column = matrix(rep(0, size), ncol = 1)\n",
    "  add_zeros_row = matrix(rep(0, size), nrow = 1)\n",
    "  x_gradient = y_gradient = list()\n",
    "  \n",
    "  for(i in 1:length(formatted_matrices)) {\n",
    "    \n",
    "    # calculate X gradient\n",
    "    removed_column = formatted_matrices[[i]][,-size]\n",
    "    x_gradient[[i]] = formatted_matrices[[i]] - cbind(add_zeros_column, removed_column)\n",
    "  \n",
    "    # calculate Y gradient\n",
    "    removed_row = formatted_matrices[[i]][-1, ]\n",
    "    y_gradient[[i]] = formatted_matrices[[i]] - rbind(removed_row, add_zeros_row)\n",
    "    \n",
    "  }\n",
    "  return(list(x = x_gradient, y = y_gradient))\n",
    "}"
   ]
  },
  {
   "cell_type": "code",
   "execution_count": 12,
   "id": "4add6622",
   "metadata": {
    "execution": {
     "iopub.execute_input": "2021-10-22T09:16:00.683748Z",
     "iopub.status.busy": "2021-10-22T09:16:00.681937Z",
     "iopub.status.idle": "2021-10-22T09:16:00.696995Z",
     "shell.execute_reply": "2021-10-22T09:16:00.695514Z"
    },
    "papermill": {
     "duration": 0.072559,
     "end_time": "2021-10-22T09:16:00.697151",
     "exception": false,
     "start_time": "2021-10-22T09:16:00.624592",
     "status": "completed"
    },
    "tags": []
   },
   "outputs": [],
   "source": [
    "# Output: matrix of gradient magnitude\n",
    "gradient_magnitude = function(x_gradient, y_gradient) {\n",
    "  \n",
    "  magnitude = list()\n",
    "  \n",
    "  for(i in 1:length(x_gradient)) {\n",
    "    \n",
    "    magnitude[[i]] = sqrt(x_gradient[[i]]^2 + y_gradient[[i]]^2)\n",
    "  }\n",
    "  return(magnitude)\n",
    "}"
   ]
  },
  {
   "cell_type": "code",
   "execution_count": 13,
   "id": "9bc1330f",
   "metadata": {
    "execution": {
     "iopub.execute_input": "2021-10-22T09:16:00.810095Z",
     "iopub.status.busy": "2021-10-22T09:16:00.808478Z",
     "iopub.status.idle": "2021-10-22T09:16:00.825262Z",
     "shell.execute_reply": "2021-10-22T09:16:00.823715Z"
    },
    "papermill": {
     "duration": 0.074227,
     "end_time": "2021-10-22T09:16:00.825404",
     "exception": false,
     "start_time": "2021-10-22T09:16:00.751177",
     "status": "completed"
    },
    "tags": []
   },
   "outputs": [],
   "source": [
    "# Output: matrix of direction angle\n",
    "gradient_angle = function(x_gradient, y_gradient) {\n",
    "  \n",
    "  radian = angle = list()\n",
    "  \n",
    "  # loop over images\n",
    "  for(i in 1:length(x_gradient)) {\n",
    "    \n",
    "    # atan() returns the radian\n",
    "    radian[[i]] = atan(y_gradient[[i]] / x_gradient[[i]])\n",
    "    \n",
    "    # replace NaNs with 0\n",
    "    radian[[i]][is.na(radian[[i]])] = 0\n",
    "    \n",
    "    # conversion to degree: 1 radian = 180/pi (wikipedia)\n",
    "    angle[[i]] = radian[[i]] * (180/pi)\n",
    "    \n",
    "    # add 180 to all pixels < 0\n",
    "    index = angle[[i]] < 0\n",
    "    angle[[i]][index] = angle[[i]][index] + 180\n",
    "  }\n",
    "  return(angle)\n",
    "}"
   ]
  },
  {
   "cell_type": "code",
   "execution_count": 14,
   "id": "a921a14c",
   "metadata": {
    "execution": {
     "iopub.execute_input": "2021-10-22T09:16:00.937402Z",
     "iopub.status.busy": "2021-10-22T09:16:00.935783Z",
     "iopub.status.idle": "2021-10-22T09:16:03.083688Z",
     "shell.execute_reply": "2021-10-22T09:16:03.082999Z"
    },
    "papermill": {
     "duration": 2.205511,
     "end_time": "2021-10-22T09:16:03.083859",
     "exception": false,
     "start_time": "2021-10-22T09:16:00.878348",
     "status": "completed"
    },
    "tags": []
   },
   "outputs": [
    {
     "data": {
      "image/png": "[encoded data removed]"
     },
     "metadata": {
      "image/png": {
       "height": 240,
       "width": 960
      }
     },
     "output_type": "display_data"
    }
   ],
   "source": [
    "# Visualization of magnitude and angle pixel matrices\n",
    "image_matrices = format_matrices(X_train)\n",
    "x_gradient = get_gradients(image_matrices)$x\n",
    "y_gradient = get_gradients(image_matrices)$y\n",
    "\n",
    "options(repr.plot.width=4*4, repr.plot.height=4)\n",
    "layout(t(1:2))\n",
    "as_image(gradient_magnitude(x_gradient, y_gradient)[[55]]) # right\n",
    "as_image(gradient_angle(x_gradient, y_gradient)[[55]])     # left"
   ]
  },
  {
   "cell_type": "markdown",
   "id": "f6898ae8",
   "metadata": {
    "papermill": {
     "duration": 0.05796,
     "end_time": "2021-10-22T09:16:03.198037",
     "exception": false,
     "start_time": "2021-10-22T09:16:03.140077",
     "status": "completed"
    },
    "tags": []
   },
   "source": [
    "Step 3 : Calculate Histogram of Gradients in 4×4 cells\n",
    "\n",
    "The gradient matrices (magnitude and angle matrix) are divided into 48 4x4 blocks, 12 blocks per row & column. For each block, a histogram with 9 bins, each with an angle range of 20 is calculated.\n",
    "\n",
    "The selection of bins was chosen based on method 4 of \"Feature Engineering for Images: A Valuable Introduction to the HOG Feature Descriptor\"\n",
    "see: https://www.analyticsvidhya.com/blog/2019/09/feature-engineering-images-introduction-hog-feature-descriptor/\n"
   ]
  },
  {
   "cell_type": "code",
   "execution_count": 15,
   "id": "4d25fe82",
   "metadata": {
    "execution": {
     "iopub.execute_input": "2021-10-22T09:16:03.315028Z",
     "iopub.status.busy": "2021-10-22T09:16:03.313439Z",
     "iopub.status.idle": "2021-10-22T09:16:03.328057Z",
     "shell.execute_reply": "2021-10-22T09:16:03.327078Z"
    },
    "papermill": {
     "duration": 0.07513,
     "end_time": "2021-10-22T09:16:03.328218",
     "exception": false,
     "start_time": "2021-10-22T09:16:03.253088",
     "status": "completed"
    },
    "tags": []
   },
   "outputs": [],
   "source": [
    "# Input:  - angle_matrix of 1 image\n",
    "#         - magnitude_matrix of 1 image\n",
    "# Output: list of HOG vectors 12 * 12 * 9\n",
    "\n",
    "get_HOGs_of_blocks = function(angle_matrix, magnitude_matrix) {\n",
    "  \n",
    "  upper_limit = seq(20, 160, 20)\n",
    "  lower_limit = seq(0, 140, 20)\n",
    "  column = list()\n",
    "  row_blocks = list()\n",
    "  \n",
    "  # separate image into blocks\n",
    "  pixels = seq(0, 44, by = 4)\n",
    "  \n",
    "  # loop over columns in 4*4 blocks\n",
    "  for(c in pixels){\n",
    "    \n",
    "    # loop over rows in 4*4 blocks\n",
    "    for(r in pixels){ \n",
    "      \n",
    "      angle_block = angle_matrix[(r + 1):(r + 4), (c + 1):(c + 4)]\n",
    "      magnitude_block = magnitude_matrix[(r + 1):(r + 4), (c + 1):(c + 4)]\n",
    "      \n",
    "      # because the intervals are closed to the right the last break point \n",
    "      # is set \n",
    "      # manually so that values of 180 are included\n",
    "      bin_index = cut(angle_block, breaks = c(seq(0, 160, 20), 181), \n",
    "                       right = FALSE, labels = FALSE)\n",
    "      bin_index_matrix = matrix(bin_index, 4, 4)\n",
    "      \n",
    "      # the bins are emptied for every matrix\n",
    "      bin = numeric()\n",
    "      \n",
    "      for(j in 1:9){\n",
    "        \n",
    "        # special case bin 9\n",
    "        if(j == 9){\n",
    "          \n",
    "          # sum(magnitude_vector * ((180 - angle_vector) / 20))\n",
    "          bin[j] = sum(c(magnitude_block[bin_index_matrix == j]) * \n",
    "                    ((180 - c(angle_block[bin_index_matrix == j])) / 20))\n",
    "          \n",
    "          # bin_content + sum(magnitude_vector * ((angle_vector - 0) / 20))\n",
    "          bin[1] = bin[1] + sum(c(magnitude_block[bin_index_matrix == j]) * \n",
    "                    ((c(angle_block[bin_index_matrix == j]) - 0)/20))# 0 or 160?\n",
    "          \n",
    "          row_blocks[[which(pixels == r)]] <- bin\n",
    "          column[[which(pixels == c)]] <- row_blocks\n",
    "          \n",
    "        }\n",
    "        \n",
    "        # sum(magnitude_vector * ((upper_limit - angle_vector)/20))\n",
    "        bin[j] = sum(c(magnitude_block[bin_index_matrix == j]) * \n",
    "                  ((upper_limit[j] - c(angle_block[bin_index_matrix == j])) /\n",
    "                  20))\n",
    "        \n",
    "        \n",
    "        # sum(magnitude_vector * ((angle_vector - lower_limit)/20))\n",
    "        bin[j + 1] = sum(c(magnitude_block[bin_index_matrix == j]) * \n",
    "                      ((c(angle_block[bin_index_matrix == j]) - lower_limit[j]) \n",
    "                       / 20))\n",
    "      }\n",
    "    }\n",
    "  }\n",
    "  return(column)\n",
    "}"
   ]
  },
  {
   "cell_type": "markdown",
   "id": "44517a25",
   "metadata": {
    "papermill": {
     "duration": 0.054838,
     "end_time": "2021-10-22T09:16:03.437628",
     "exception": false,
     "start_time": "2021-10-22T09:16:03.382790",
     "status": "completed"
    },
    "tags": []
   },
   "source": [
    "Step 4 : 8×8 Block Normalization\n",
    "\n",
    "The 4x4 blocks are concatenated with neighbouring blocks 2x2 across rows and columns. See picture: https://learnopencv.com/histogram-of-oriented-gradients/"
   ]
  },
  {
   "cell_type": "markdown",
   "id": "a1c5a794",
   "metadata": {
    "papermill": {
     "duration": 0.054094,
     "end_time": "2021-10-22T09:16:03.546542",
     "exception": false,
     "start_time": "2021-10-22T09:16:03.492448",
     "status": "completed"
    },
    "tags": []
   },
   "source": [
    "#### This function is inspired by team 6 of 2020: https://www.kaggle.com/wesselkooy/facial-expression-recognition-team-6-round-2\n"
   ]
  },
  {
   "cell_type": "code",
   "execution_count": 16,
   "id": "9b75ef3e",
   "metadata": {
    "execution": {
     "iopub.execute_input": "2021-10-22T09:16:03.660984Z",
     "iopub.status.busy": "2021-10-22T09:16:03.659025Z",
     "iopub.status.idle": "2021-10-22T09:16:03.676920Z",
     "shell.execute_reply": "2021-10-22T09:16:03.675223Z"
    },
    "papermill": {
     "duration": 0.076822,
     "end_time": "2021-10-22T09:16:03.677075",
     "exception": false,
     "start_time": "2021-10-22T09:16:03.600253",
     "status": "completed"
    },
    "tags": []
   },
   "outputs": [],
   "source": [
    "# Input: list of 12 * 12 HOG vectors of one image matrix\n",
    "# Output: list of 11 * 11 HOG vectors of one image matrix\n",
    "concatenate_block_HOGs = function(blocks) {\n",
    "  \n",
    "  concatenated_columns = concatenated_all = list()\n",
    "  \n",
    "  # loop over column\n",
    "  for(i in 1:11) {\n",
    "    \n",
    "    # loop over row\n",
    "    for(j in 1:11){\n",
    "      \n",
    "      concatenated_columns[[j]] = unlist(as.vector(c(blocks[[i]][j], blocks[[i]][j + 1],\n",
    "                                                 blocks[[i + 1]][j], blocks[[i + 1]][j + 1])))\n",
    "    }\n",
    "    concatenated_all[[i]] = concatenated_columns\n",
    "  }\n",
    "  return(concatenated_all)\n",
    "}"
   ]
  },
  {
   "cell_type": "markdown",
   "id": "f2a2b34c",
   "metadata": {
    "papermill": {
     "duration": 0.054688,
     "end_time": "2021-10-22T09:16:03.786932",
     "exception": false,
     "start_time": "2021-10-22T09:16:03.732244",
     "status": "completed"
    },
    "tags": []
   },
   "source": [
    "Step 5 : Calculate the Histogram of Oriented Gradients feature vector\n",
    "\n",
    "Position of 4x4 blocks: 11 horizontal & 11 vertical positions = 121 positions.\n",
    "Each 4×4 block is represented by a 36×1 vector.\n",
    "\n",
    "When concatenating them all into one big vector we obtain a 36×121 = 4356 dimensional vector."
   ]
  },
  {
   "cell_type": "code",
   "execution_count": 17,
   "id": "8244c3f5",
   "metadata": {
    "execution": {
     "iopub.execute_input": "2021-10-22T09:16:03.901074Z",
     "iopub.status.busy": "2021-10-22T09:16:03.899343Z",
     "iopub.status.idle": "2021-10-22T09:16:03.915777Z",
     "shell.execute_reply": "2021-10-22T09:16:03.914149Z"
    },
    "papermill": {
     "duration": 0.075245,
     "end_time": "2021-10-22T09:16:03.916015",
     "exception": false,
     "start_time": "2021-10-22T09:16:03.840770",
     "status": "completed"
    },
    "tags": []
   },
   "outputs": [],
   "source": [
    "HOG_features = function(train_data){\n",
    "  \n",
    "  HOGs_feature_matrix = matrix(0, nrow(train_data), 4356)\n",
    "  \n",
    "  # get all image matrices in the right format\n",
    "  image_matrices = format_matrices(train_data)\n",
    "  \n",
    "  # get x & y gradients\n",
    "  x_gradient = get_gradients(image_matrices)$x\n",
    "  y_gradient = get_gradients(image_matrices)$y\n",
    "  \n",
    "  angle_matrix = gradient_angle(x_gradient, y_gradient)\n",
    "  magnitude_matrix = gradient_magnitude(x_gradient, y_gradient)\n",
    "  \n",
    "  \n",
    "  for(i in 1:nrow(train_data)) { \n",
    "    \n",
    "    HOGs = get_HOGs_of_blocks(angle_matrix[[i]], magnitude_matrix[[i]])\n",
    "    \n",
    "    HOG_feature = concatenate_block_HOGs(HOGs)\n",
    "    \n",
    "    HOGs_feature_matrix[i,] = matrix(unlist(HOG_feature), 1, 4356)\n",
    "  }\n",
    "  \n",
    "  return(as.data.frame(HOGs_feature_matrix))\n",
    "  \n",
    "}"
   ]
  },
  {
   "cell_type": "code",
   "execution_count": 18,
   "id": "5af00318",
   "metadata": {
    "execution": {
     "iopub.execute_input": "2021-10-22T09:16:04.034949Z",
     "iopub.status.busy": "2021-10-22T09:16:04.032845Z",
     "iopub.status.idle": "2021-10-22T09:17:23.259531Z",
     "shell.execute_reply": "2021-10-22T09:17:23.257891Z"
    },
    "papermill": {
     "duration": 79.288107,
     "end_time": "2021-10-22T09:17:23.259709",
     "exception": false,
     "start_time": "2021-10-22T09:16:03.971602",
     "status": "completed"
    },
    "tags": []
   },
   "outputs": [
    {
     "data": {
      "text/html": [
       "FALSE"
      ],
      "text/latex": [
       "FALSE"
      ],
      "text/markdown": [
       "FALSE"
      ],
      "text/plain": [
       "[1] FALSE"
      ]
     },
     "metadata": {},
     "output_type": "display_data"
    },
    {
     "data": {
      "text/html": [
       "<table class=\"dataframe\">\n",
       "<caption>A data.frame: 6 × 4356</caption>\n",
       "<thead>\n",
       "\t<tr><th></th><th scope=col>V1</th><th scope=col>V2</th><th scope=col>V3</th><th scope=col>V4</th><th scope=col>V5</th><th scope=col>V6</th><th scope=col>V7</th><th scope=col>V8</th><th scope=col>V9</th><th scope=col>V10</th><th scope=col>⋯</th><th scope=col>V4347</th><th scope=col>V4348</th><th scope=col>V4349</th><th scope=col>V4350</th><th scope=col>V4351</th><th scope=col>V4352</th><th scope=col>V4353</th><th scope=col>V4354</th><th scope=col>V4355</th><th scope=col>V4356</th></tr>\n",
       "\t<tr><th></th><th scope=col>&lt;dbl&gt;</th><th scope=col>&lt;dbl&gt;</th><th scope=col>&lt;dbl&gt;</th><th scope=col>&lt;dbl&gt;</th><th scope=col>&lt;dbl&gt;</th><th scope=col>&lt;dbl&gt;</th><th scope=col>&lt;dbl&gt;</th><th scope=col>&lt;dbl&gt;</th><th scope=col>&lt;dbl&gt;</th><th scope=col>&lt;dbl&gt;</th><th scope=col>⋯</th><th scope=col>&lt;dbl&gt;</th><th scope=col>&lt;dbl&gt;</th><th scope=col>&lt;dbl&gt;</th><th scope=col>&lt;dbl&gt;</th><th scope=col>&lt;dbl&gt;</th><th scope=col>&lt;dbl&gt;</th><th scope=col>&lt;dbl&gt;</th><th scope=col>&lt;dbl&gt;</th><th scope=col>&lt;dbl&gt;</th><th scope=col>&lt;dbl&gt;</th></tr>\n",
       "</thead>\n",
       "<tbody>\n",
       "\t<tr><th scope=row>1</th><td> 1.1753774</td><td>0.048642263</td><td>0.000000000</td><td>0.001309681</td><td>0.007843137</td><td>0.01290593</td><td>0.000000000</td><td>0.03874300</td><td>0.06815417</td><td> 1.3522920</td><td>⋯</td><td>0.22643470</td><td>0.004891986</td><td>0.01767145</td><td>0.00521754</td><td>0.03021610</td><td>1.295366</td><td>0.0000000</td><td>0.00000000</td><td>0.00000000</td><td>0.00000000</td></tr>\n",
       "\t<tr><th scope=row>2</th><td> 1.3976058</td><td>0.005890482</td><td>0.000000000</td><td>0.001309681</td><td>0.000000000</td><td>0.00000000</td><td>0.002772968</td><td>0.05067974</td><td>0.06794914</td><td> 1.0493726</td><td>⋯</td><td>0.00000000</td><td>0.184313725</td><td>0.00000000</td><td>0.00000000</td><td>0.00000000</td><td>2.022485</td><td>0.0000000</td><td>0.00000000</td><td>0.00000000</td><td>0.00000000</td></tr>\n",
       "\t<tr><th scope=row>3</th><td> 2.2868035</td><td>0.000000000</td><td>0.000000000</td><td>0.001309681</td><td>0.058823529</td><td>0.00000000</td><td>0.052418715</td><td>0.07589169</td><td>0.19331534</td><td> 2.8188558</td><td>⋯</td><td>0.01123473</td><td>0.242026578</td><td>0.00000000</td><td>0.00000000</td><td>0.00000000</td><td>2.000000</td><td>0.0000000</td><td>0.00000000</td><td>0.00000000</td><td>0.02276161</td></tr>\n",
       "\t<tr><th scope=row>4</th><td> 0.9903704</td><td>0.000000000</td><td>1.055322702</td><td>0.000000000</td><td>1.234158975</td><td>0.00000000</td><td>0.000000000</td><td>0.06066135</td><td>0.01134763</td><td> 0.5759234</td><td>⋯</td><td>0.04498204</td><td>1.048827838</td><td>0.03694474</td><td>0.00782631</td><td>0.52104717</td><td>1.101550</td><td>0.0000000</td><td>0.00000000</td><td>0.01253512</td><td>0.00000000</td></tr>\n",
       "\t<tr><th scope=row>5</th><td>21.1078113</td><td>0.000000000</td><td>0.000000000</td><td>0.000000000</td><td>1.423529412</td><td>0.00000000</td><td>0.000000000</td><td>0.00000000</td><td>0.11274206</td><td>16.3275997</td><td>⋯</td><td>0.00000000</td><td>2.093298350</td><td>0.00000000</td><td>0.00260877</td><td>0.01706445</td><td>1.260663</td><td>0.1892281</td><td>0.01707658</td><td>0.00000000</td><td>0.11284056</td></tr>\n",
       "\t<tr><th scope=row>6</th><td>20.6265717</td><td>0.000000000</td><td>0.008318903</td><td>0.003263109</td><td>0.925909192</td><td>0.00000000</td><td>0.000000000</td><td>0.00000000</td><td>0.32658565</td><td>17.3589660</td><td>⋯</td><td>0.00000000</td><td>1.629143687</td><td>0.00000000</td><td>0.00000000</td><td>0.00000000</td><td>1.729981</td><td>0.6522614</td><td>0.17142340</td><td>0.12841031</td><td>0.17112145</td></tr>\n",
       "</tbody>\n",
       "</table>\n"
      ],
      "text/latex": [
       "A data.frame: 6 × 4356\n",
       "\\begin{tabular}{r|lllllllllllllllllllll}\n",
       "  & V1 & V2 & V3 & V4 & V5 & V6 & V7 & V8 & V9 & V10 & ⋯ & V4347 & V4348 & V4349 & V4350 & V4351 & V4352 & V4353 & V4354 & V4355 & V4356\\\\\n",
       "  & <dbl> & <dbl> & <dbl> & <dbl> & <dbl> & <dbl> & <dbl> & <dbl> & <dbl> & <dbl> & ⋯ & <dbl> & <dbl> & <dbl> & <dbl> & <dbl> & <dbl> & <dbl> & <dbl> & <dbl> & <dbl>\\\\\n",
       "\\hline\n",
       "\t1 &  1.1753774 & 0.048642263 & 0.000000000 & 0.001309681 & 0.007843137 & 0.01290593 & 0.000000000 & 0.03874300 & 0.06815417 &  1.3522920 & ⋯ & 0.22643470 & 0.004891986 & 0.01767145 & 0.00521754 & 0.03021610 & 1.295366 & 0.0000000 & 0.00000000 & 0.00000000 & 0.00000000\\\\\n",
       "\t2 &  1.3976058 & 0.005890482 & 0.000000000 & 0.001309681 & 0.000000000 & 0.00000000 & 0.002772968 & 0.05067974 & 0.06794914 &  1.0493726 & ⋯ & 0.00000000 & 0.184313725 & 0.00000000 & 0.00000000 & 0.00000000 & 2.022485 & 0.0000000 & 0.00000000 & 0.00000000 & 0.00000000\\\\\n",
       "\t3 &  2.2868035 & 0.000000000 & 0.000000000 & 0.001309681 & 0.058823529 & 0.00000000 & 0.052418715 & 0.07589169 & 0.19331534 &  2.8188558 & ⋯ & 0.01123473 & 0.242026578 & 0.00000000 & 0.00000000 & 0.00000000 & 2.000000 & 0.0000000 & 0.00000000 & 0.00000000 & 0.02276161\\\\\n",
       "\t4 &  0.9903704 & 0.000000000 & 1.055322702 & 0.000000000 & 1.234158975 & 0.00000000 & 0.000000000 & 0.06066135 & 0.01134763 &  0.5759234 & ⋯ & 0.04498204 & 1.048827838 & 0.03694474 & 0.00782631 & 0.52104717 & 1.101550 & 0.0000000 & 0.00000000 & 0.01253512 & 0.00000000\\\\\n",
       "\t5 & 21.1078113 & 0.000000000 & 0.000000000 & 0.000000000 & 1.423529412 & 0.00000000 & 0.000000000 & 0.00000000 & 0.11274206 & 16.3275997 & ⋯ & 0.00000000 & 2.093298350 & 0.00000000 & 0.00260877 & 0.01706445 & 1.260663 & 0.1892281 & 0.01707658 & 0.00000000 & 0.11284056\\\\\n",
       "\t6 & 20.6265717 & 0.000000000 & 0.008318903 & 0.003263109 & 0.925909192 & 0.00000000 & 0.000000000 & 0.00000000 & 0.32658565 & 17.3589660 & ⋯ & 0.00000000 & 1.629143687 & 0.00000000 & 0.00000000 & 0.00000000 & 1.729981 & 0.6522614 & 0.17142340 & 0.12841031 & 0.17112145\\\\\n",
       "\\end{tabular}\n"
      ],
      "text/markdown": [
       "\n",
       "A data.frame: 6 × 4356\n",
       "\n",
       "| <!--/--> | V1 &lt;dbl&gt; | V2 &lt;dbl&gt; | V3 &lt;dbl&gt; | V4 &lt;dbl&gt; | V5 &lt;dbl&gt; | V6 &lt;dbl&gt; | V7 &lt;dbl&gt; | V8 &lt;dbl&gt; | V9 &lt;dbl&gt; | V10 &lt;dbl&gt; | ⋯ ⋯ | V4347 &lt;dbl&gt; | V4348 &lt;dbl&gt; | V4349 &lt;dbl&gt; | V4350 &lt;dbl&gt; | V4351 &lt;dbl&gt; | V4352 &lt;dbl&gt; | V4353 &lt;dbl&gt; | V4354 &lt;dbl&gt; | V4355 &lt;dbl&gt; | V4356 &lt;dbl&gt; |\n",
       "|---|---|---|---|---|---|---|---|---|---|---|---|---|---|---|---|---|---|---|---|---|---|\n",
       "| 1 |  1.1753774 | 0.048642263 | 0.000000000 | 0.001309681 | 0.007843137 | 0.01290593 | 0.000000000 | 0.03874300 | 0.06815417 |  1.3522920 | ⋯ | 0.22643470 | 0.004891986 | 0.01767145 | 0.00521754 | 0.03021610 | 1.295366 | 0.0000000 | 0.00000000 | 0.00000000 | 0.00000000 |\n",
       "| 2 |  1.3976058 | 0.005890482 | 0.000000000 | 0.001309681 | 0.000000000 | 0.00000000 | 0.002772968 | 0.05067974 | 0.06794914 |  1.0493726 | ⋯ | 0.00000000 | 0.184313725 | 0.00000000 | 0.00000000 | 0.00000000 | 2.022485 | 0.0000000 | 0.00000000 | 0.00000000 | 0.00000000 |\n",
       "| 3 |  2.2868035 | 0.000000000 | 0.000000000 | 0.001309681 | 0.058823529 | 0.00000000 | 0.052418715 | 0.07589169 | 0.19331534 |  2.8188558 | ⋯ | 0.01123473 | 0.242026578 | 0.00000000 | 0.00000000 | 0.00000000 | 2.000000 | 0.0000000 | 0.00000000 | 0.00000000 | 0.02276161 |\n",
       "| 4 |  0.9903704 | 0.000000000 | 1.055322702 | 0.000000000 | 1.234158975 | 0.00000000 | 0.000000000 | 0.06066135 | 0.01134763 |  0.5759234 | ⋯ | 0.04498204 | 1.048827838 | 0.03694474 | 0.00782631 | 0.52104717 | 1.101550 | 0.0000000 | 0.00000000 | 0.01253512 | 0.00000000 |\n",
       "| 5 | 21.1078113 | 0.000000000 | 0.000000000 | 0.000000000 | 1.423529412 | 0.00000000 | 0.000000000 | 0.00000000 | 0.11274206 | 16.3275997 | ⋯ | 0.00000000 | 2.093298350 | 0.00000000 | 0.00260877 | 0.01706445 | 1.260663 | 0.1892281 | 0.01707658 | 0.00000000 | 0.11284056 |\n",
       "| 6 | 20.6265717 | 0.000000000 | 0.008318903 | 0.003263109 | 0.925909192 | 0.00000000 | 0.000000000 | 0.00000000 | 0.32658565 | 17.3589660 | ⋯ | 0.00000000 | 1.629143687 | 0.00000000 | 0.00000000 | 0.00000000 | 1.729981 | 0.6522614 | 0.17142340 | 0.12841031 | 0.17112145 |\n",
       "\n"
      ],
      "text/plain": [
       "  V1         V2          V3          V4          V5          V6        \n",
       "1  1.1753774 0.048642263 0.000000000 0.001309681 0.007843137 0.01290593\n",
       "2  1.3976058 0.005890482 0.000000000 0.001309681 0.000000000 0.00000000\n",
       "3  2.2868035 0.000000000 0.000000000 0.001309681 0.058823529 0.00000000\n",
       "4  0.9903704 0.000000000 1.055322702 0.000000000 1.234158975 0.00000000\n",
       "5 21.1078113 0.000000000 0.000000000 0.000000000 1.423529412 0.00000000\n",
       "6 20.6265717 0.000000000 0.008318903 0.003263109 0.925909192 0.00000000\n",
       "  V7          V8         V9         V10        ⋯ V4347      V4348      \n",
       "1 0.000000000 0.03874300 0.06815417  1.3522920 ⋯ 0.22643470 0.004891986\n",
       "2 0.002772968 0.05067974 0.06794914  1.0493726 ⋯ 0.00000000 0.184313725\n",
       "3 0.052418715 0.07589169 0.19331534  2.8188558 ⋯ 0.01123473 0.242026578\n",
       "4 0.000000000 0.06066135 0.01134763  0.5759234 ⋯ 0.04498204 1.048827838\n",
       "5 0.000000000 0.00000000 0.11274206 16.3275997 ⋯ 0.00000000 2.093298350\n",
       "6 0.000000000 0.00000000 0.32658565 17.3589660 ⋯ 0.00000000 1.629143687\n",
       "  V4349      V4350      V4351      V4352    V4353     V4354      V4355     \n",
       "1 0.01767145 0.00521754 0.03021610 1.295366 0.0000000 0.00000000 0.00000000\n",
       "2 0.00000000 0.00000000 0.00000000 2.022485 0.0000000 0.00000000 0.00000000\n",
       "3 0.00000000 0.00000000 0.00000000 2.000000 0.0000000 0.00000000 0.00000000\n",
       "4 0.03694474 0.00782631 0.52104717 1.101550 0.0000000 0.00000000 0.01253512\n",
       "5 0.00000000 0.00260877 0.01706445 1.260663 0.1892281 0.01707658 0.00000000\n",
       "6 0.00000000 0.00000000 0.00000000 1.729981 0.6522614 0.17142340 0.12841031\n",
       "  V4356     \n",
       "1 0.00000000\n",
       "2 0.00000000\n",
       "3 0.02276161\n",
       "4 0.00000000\n",
       "5 0.11284056\n",
       "6 0.17112145"
      ]
     },
     "metadata": {},
     "output_type": "display_data"
    }
   ],
   "source": [
    "HOG_features_train_df = HOG_features(X_train)\n",
    "any(is.na(HOG_features_train_df))\n",
    "head(HOG_features_train_df)"
   ]
  },
  {
   "cell_type": "markdown",
   "id": "cd374c1d",
   "metadata": {
    "papermill": {
     "duration": 0.058032,
     "end_time": "2021-10-22T09:17:23.373426",
     "exception": false,
     "start_time": "2021-10-22T09:17:23.315394",
     "status": "completed"
    },
    "tags": []
   },
   "source": [
    "# NZV\n",
    "\n",
    "Select number of pixels to retain as features and filter NZV predictors of HOG features. \n"
   ]
  },
  {
   "cell_type": "code",
   "execution_count": 19,
   "id": "9c1e5341",
   "metadata": {
    "execution": {
     "iopub.execute_input": "2021-10-22T09:17:23.492100Z",
     "iopub.status.busy": "2021-10-22T09:17:23.490184Z",
     "iopub.status.idle": "2021-10-22T09:17:23.594440Z",
     "shell.execute_reply": "2021-10-22T09:17:23.592671Z"
    },
    "papermill": {
     "duration": 0.164601,
     "end_time": "2021-10-22T09:17:23.594582",
     "exception": false,
     "start_time": "2021-10-22T09:17:23.429981",
     "status": "completed"
    },
    "tags": []
   },
   "outputs": [
    {
     "data": {
      "text/html": [
       "96"
      ],
      "text/latex": [
       "96"
      ],
      "text/markdown": [
       "96"
      ],
      "text/plain": [
       "[1] 96"
      ]
     },
     "metadata": {},
     "output_type": "display_data"
    }
   ],
   "source": [
    "# Compute P(X > 0)\n",
    "props = colMeans(X_train > 0)\n",
    "\n",
    "# Find pixels that are not near-zero-variance\n",
    "use_pix = props > .075 & props < 1- .075\n",
    "\n",
    "# What is the number of pixels retained?\n",
    "sum(use_pix)"
   ]
  },
  {
   "cell_type": "code",
   "execution_count": 20,
   "id": "af93c263",
   "metadata": {
    "execution": {
     "iopub.execute_input": "2021-10-22T09:17:23.724051Z",
     "iopub.status.busy": "2021-10-22T09:17:23.712590Z",
     "iopub.status.idle": "2021-10-22T09:17:52.178902Z",
     "shell.execute_reply": "2021-10-22T09:17:52.176865Z"
    },
    "papermill": {
     "duration": 28.528363,
     "end_time": "2021-10-22T09:17:52.179133",
     "exception": false,
     "start_time": "2021-10-22T09:17:23.650770",
     "status": "completed"
    },
    "tags": []
   },
   "outputs": [
    {
     "data": {
      "text/html": [
       "0"
      ],
      "text/latex": [
       "0"
      ],
      "text/markdown": [
       "0"
      ],
      "text/plain": [
       "[1] 0"
      ]
     },
     "metadata": {},
     "output_type": "display_data"
    },
    {
     "data": {
      "text/html": [
       "<style>\n",
       ".list-inline {list-style: none; margin:0; padding: 0}\n",
       ".list-inline>li {display: inline-block}\n",
       ".list-inline>li:not(:last-child)::after {content: \"\\00b7\"; padding: 0 .5ex}\n",
       "</style>\n",
       "<ol class=list-inline><li>'H_x.box'</li><li>'H_y.box'</li><li>'H_width'</li><li>'H_high'</li><li>'V_x.box'</li><li>'V_y.box'</li><li>'V_width'</li><li>'V_high'</li><li>'D_x.box'</li><li>'D_y.box'</li><li>'D_width'</li><li>'D_high'</li></ol>\n"
      ],
      "text/latex": [
       "\\begin{enumerate*}\n",
       "\\item 'H\\_x.box'\n",
       "\\item 'H\\_y.box'\n",
       "\\item 'H\\_width'\n",
       "\\item 'H\\_high'\n",
       "\\item 'V\\_x.box'\n",
       "\\item 'V\\_y.box'\n",
       "\\item 'V\\_width'\n",
       "\\item 'V\\_high'\n",
       "\\item 'D\\_x.box'\n",
       "\\item 'D\\_y.box'\n",
       "\\item 'D\\_width'\n",
       "\\item 'D\\_high'\n",
       "\\end{enumerate*}\n"
      ],
      "text/markdown": [
       "1. 'H_x.box'\n",
       "2. 'H_y.box'\n",
       "3. 'H_width'\n",
       "4. 'H_high'\n",
       "5. 'V_x.box'\n",
       "6. 'V_y.box'\n",
       "7. 'V_width'\n",
       "8. 'V_high'\n",
       "9. 'D_x.box'\n",
       "10. 'D_y.box'\n",
       "11. 'D_width'\n",
       "12. 'D_high'\n",
       "\n",
       "\n"
      ],
      "text/plain": [
       " [1] \"H_x.box\" \"H_y.box\" \"H_width\" \"H_high\"  \"V_x.box\" \"V_y.box\" \"V_width\"\n",
       " [8] \"V_high\"  \"D_x.box\" \"D_y.box\" \"D_width\" \"D_high\" "
      ]
     },
     "metadata": {},
     "output_type": "display_data"
    }
   ],
   "source": [
    "getNearZeroVariationPredictors = function(train_df) {\n",
    "  \n",
    "  nzv_predictors = train_df %>%\n",
    "    nearZeroVar(names = TRUE)\n",
    "  \n",
    "  if(length(nzv_predictors) == 0) {\n",
    "    return(0L)  \n",
    "  } else {\n",
    "    return(nzv_predictors)\n",
    "  }\n",
    "}\n",
    "\n",
    "nzv = getNearZeroVariationPredictors(HOG_features_train_df)\n",
    "nzv\n",
    "\n",
    "nzv_edge = getNearZeroVariationPredictors(edge_data)\n",
    "nzv_edge"
   ]
  },
  {
   "cell_type": "code",
   "execution_count": 21,
   "id": "27ce53d0",
   "metadata": {
    "execution": {
     "iopub.execute_input": "2021-10-22T09:17:52.302020Z",
     "iopub.status.busy": "2021-10-22T09:17:52.300004Z",
     "iopub.status.idle": "2021-10-22T09:18:39.289242Z",
     "shell.execute_reply": "2021-10-22T09:18:39.286879Z"
    },
    "papermill": {
     "duration": 47.051993,
     "end_time": "2021-10-22T09:18:39.289406",
     "exception": false,
     "start_time": "2021-10-22T09:17:52.237413",
     "status": "completed"
    },
    "tags": []
   },
   "outputs": [
    {
     "data": {
      "text/html": [
       "3062"
      ],
      "text/latex": [
       "3062"
      ],
      "text/markdown": [
       "3062"
      ],
      "text/plain": [
       "[1] 3062"
      ]
     },
     "metadata": {},
     "output_type": "display_data"
    },
    {
     "data": {
      "text/html": [
       "<style>\n",
       ".list-inline {list-style: none; margin:0; padding: 0}\n",
       ".list-inline>li {display: inline-block}\n",
       ".list-inline>li:not(:last-child)::after {content: \"\\00b7\"; padding: 0 .5ex}\n",
       "</style>\n",
       "<ol class=list-inline><li>'V1279'</li><li>'V1630'</li><li>'V1657'</li><li>'V2035'</li><li>'V2386'</li><li>'V2413'</li></ol>\n"
      ],
      "text/latex": [
       "\\begin{enumerate*}\n",
       "\\item 'V1279'\n",
       "\\item 'V1630'\n",
       "\\item 'V1657'\n",
       "\\item 'V2035'\n",
       "\\item 'V2386'\n",
       "\\item 'V2413'\n",
       "\\end{enumerate*}\n"
      ],
      "text/markdown": [
       "1. 'V1279'\n",
       "2. 'V1630'\n",
       "3. 'V1657'\n",
       "4. 'V2035'\n",
       "5. 'V2386'\n",
       "6. 'V2413'\n",
       "\n",
       "\n"
      ],
      "text/plain": [
       "[1] \"V1279\" \"V1630\" \"V1657\" \"V2035\" \"V2386\" \"V2413\""
      ]
     },
     "metadata": {},
     "output_type": "display_data"
    },
    {
     "data": {
      "text/html": [
       "6"
      ],
      "text/latex": [
       "6"
      ],
      "text/markdown": [
       "6"
      ],
      "text/plain": [
       "[1] 6"
      ]
     },
     "metadata": {},
     "output_type": "display_data"
    },
    {
     "data": {
      "text/html": [
       "<style>\n",
       ".list-inline {list-style: none; margin:0; padding: 0}\n",
       ".list-inline>li {display: inline-block}\n",
       ".list-inline>li:not(:last-child)::after {content: \"\\00b7\"; padding: 0 .5ex}\n",
       "</style>\n",
       "<ol class=list-inline><li>'H_x2ybar'</li><li>'H_x2bar'</li><li>'H_xy2bar'</li><li>'V_x2ybar'</li><li>'V_xy2bar'</li><li>'V_xybar'</li></ol>\n"
      ],
      "text/latex": [
       "\\begin{enumerate*}\n",
       "\\item 'H\\_x2ybar'\n",
       "\\item 'H\\_x2bar'\n",
       "\\item 'H\\_xy2bar'\n",
       "\\item 'V\\_x2ybar'\n",
       "\\item 'V\\_xy2bar'\n",
       "\\item 'V\\_xybar'\n",
       "\\end{enumerate*}\n"
      ],
      "text/markdown": [
       "1. 'H_x2ybar'\n",
       "2. 'H_x2bar'\n",
       "3. 'H_xy2bar'\n",
       "4. 'V_x2ybar'\n",
       "5. 'V_xy2bar'\n",
       "6. 'V_xybar'\n",
       "\n",
       "\n"
      ],
      "text/plain": [
       "[1] \"H_x2ybar\" \"H_x2bar\"  \"H_xy2bar\" \"V_x2ybar\" \"V_xy2bar\" \"V_xybar\" "
      ]
     },
     "metadata": {},
     "output_type": "display_data"
    }
   ],
   "source": [
    "getHighCorPredictors = function(train_df) {\n",
    "  \n",
    "  high_cor_predictors = train_df %>% \n",
    "    select(-all_of(nzv)) %>%\n",
    "    cor() %>%\n",
    "    findCorrelation(.95, names = TRUE)\n",
    "  \n",
    "  return(high_cor_predictors)\n",
    "}\n",
    "\n",
    "\n",
    "high_cor = getHighCorPredictors(HOG_features_train_df)\n",
    "length(high_cor)\n",
    "head(high_cor)\n",
    "\n",
    "\n",
    "\n",
    "high_cor_predictors_edge = edge_data %>% \n",
    "    select(-all_of(nzv_edge)) %>%\n",
    "    cor() %>%\n",
    "    findCorrelation(.95, names = TRUE)\n",
    "\n",
    "length(high_cor_predictors_edge)\n",
    "head(high_cor_predictors_edge)"
   ]
  },
  {
   "cell_type": "code",
   "execution_count": 22,
   "id": "394db485",
   "metadata": {
    "execution": {
     "iopub.execute_input": "2021-10-22T09:18:39.415489Z",
     "iopub.status.busy": "2021-10-22T09:18:39.414077Z",
     "iopub.status.idle": "2021-10-22T09:18:39.474725Z",
     "shell.execute_reply": "2021-10-22T09:18:39.473309Z"
    },
    "papermill": {
     "duration": 0.125478,
     "end_time": "2021-10-22T09:18:39.474926",
     "exception": false,
     "start_time": "2021-10-22T09:18:39.349448",
     "status": "completed"
    },
    "tags": []
   },
   "outputs": [
    {
     "data": {
      "text/html": [
       "<table class=\"dataframe\">\n",
       "<caption>A matrix: 3 × 5 of type dbl</caption>\n",
       "<thead>\n",
       "\t<tr><th scope=col>V1</th><th scope=col>V2</th><th scope=col>V3</th><th scope=col>V4</th><th scope=col>V5</th></tr>\n",
       "</thead>\n",
       "<tbody>\n",
       "\t<tr><td>1.175377</td><td>0.048642263</td><td>0</td><td>0.001309681</td><td>0.007843137</td></tr>\n",
       "\t<tr><td>1.397606</td><td>0.005890482</td><td>0</td><td>0.001309681</td><td>0.000000000</td></tr>\n",
       "\t<tr><td>2.286803</td><td>0.000000000</td><td>0</td><td>0.001309681</td><td>0.058823529</td></tr>\n",
       "</tbody>\n",
       "</table>\n"
      ],
      "text/latex": [
       "A matrix: 3 × 5 of type dbl\n",
       "\\begin{tabular}{lllll}\n",
       " V1 & V2 & V3 & V4 & V5\\\\\n",
       "\\hline\n",
       "\t 1.175377 & 0.048642263 & 0 & 0.001309681 & 0.007843137\\\\\n",
       "\t 1.397606 & 0.005890482 & 0 & 0.001309681 & 0.000000000\\\\\n",
       "\t 2.286803 & 0.000000000 & 0 & 0.001309681 & 0.058823529\\\\\n",
       "\\end{tabular}\n"
      ],
      "text/markdown": [
       "\n",
       "A matrix: 3 × 5 of type dbl\n",
       "\n",
       "| V1 | V2 | V3 | V4 | V5 |\n",
       "|---|---|---|---|---|\n",
       "| 1.175377 | 0.048642263 | 0 | 0.001309681 | 0.007843137 |\n",
       "| 1.397606 | 0.005890482 | 0 | 0.001309681 | 0.000000000 |\n",
       "| 2.286803 | 0.000000000 | 0 | 0.001309681 | 0.058823529 |\n",
       "\n"
      ],
      "text/plain": [
       "     V1       V2          V3 V4          V5         \n",
       "[1,] 1.175377 0.048642263 0  0.001309681 0.007843137\n",
       "[2,] 1.397606 0.005890482 0  0.001309681 0.000000000\n",
       "[3,] 2.286803 0.000000000 0  0.001309681 0.058823529"
      ]
     },
     "metadata": {},
     "output_type": "display_data"
    }
   ],
   "source": [
    "clean_train_data = HOG_features_train_df %>%\n",
    "  select(-all_of(nzv), -all_of(high_cor)) %>%\n",
    "  as.matrix()\n",
    "\n",
    "clean_train_data[1:3, 1:5]\n",
    "\n",
    "clean_edge_data = edge_data %>%\n",
    "  select(-all_of(nzv_edge), -all_of(high_cor_predictors_edge)) %>%\n",
    "  as.matrix()"
   ]
  },
  {
   "cell_type": "markdown",
   "id": "edbd271d",
   "metadata": {
    "papermill": {
     "duration": 0.061762,
     "end_time": "2021-10-22T09:18:39.599017",
     "exception": false,
     "start_time": "2021-10-22T09:18:39.537255",
     "status": "completed"
    },
    "tags": []
   },
   "source": [
    "# Merge features"
   ]
  },
  {
   "cell_type": "code",
   "execution_count": 23,
   "id": "810f9963",
   "metadata": {
    "execution": {
     "iopub.execute_input": "2021-10-22T09:18:39.727659Z",
     "iopub.status.busy": "2021-10-22T09:18:39.726149Z",
     "iopub.status.idle": "2021-10-22T09:18:39.799757Z",
     "shell.execute_reply": "2021-10-22T09:18:39.798310Z"
    },
    "papermill": {
     "duration": 0.139018,
     "end_time": "2021-10-22T09:18:39.799940",
     "exception": false,
     "start_time": "2021-10-22T09:18:39.660922",
     "status": "completed"
    },
    "tags": []
   },
   "outputs": [
    {
     "data": {
      "text/html": [
       "<table class=\"dataframe\">\n",
       "<caption>A matrix: 3 × 6 of type dbl</caption>\n",
       "<thead>\n",
       "\t<tr><th scope=col>p6</th><th scope=col>p7</th><th scope=col>p8</th><th scope=col>V1</th><th scope=col>V2</th><th scope=col>V3</th></tr>\n",
       "</thead>\n",
       "<tbody>\n",
       "\t<tr><td>0.05490196</td><td>0.05882353</td><td>0.07450980</td><td>1.175377</td><td>0.048642263</td><td>0</td></tr>\n",
       "\t<tr><td>0.03921569</td><td>0.03921569</td><td>0.04313725</td><td>1.397606</td><td>0.005890482</td><td>0</td></tr>\n",
       "\t<tr><td>0.08235294</td><td>0.08627451</td><td>0.08627451</td><td>2.286803</td><td>0.000000000</td><td>0</td></tr>\n",
       "</tbody>\n",
       "</table>\n"
      ],
      "text/latex": [
       "A matrix: 3 × 6 of type dbl\n",
       "\\begin{tabular}{llllll}\n",
       " p6 & p7 & p8 & V1 & V2 & V3\\\\\n",
       "\\hline\n",
       "\t 0.05490196 & 0.05882353 & 0.07450980 & 1.175377 & 0.048642263 & 0\\\\\n",
       "\t 0.03921569 & 0.03921569 & 0.04313725 & 1.397606 & 0.005890482 & 0\\\\\n",
       "\t 0.08235294 & 0.08627451 & 0.08627451 & 2.286803 & 0.000000000 & 0\\\\\n",
       "\\end{tabular}\n"
      ],
      "text/markdown": [
       "\n",
       "A matrix: 3 × 6 of type dbl\n",
       "\n",
       "| p6 | p7 | p8 | V1 | V2 | V3 |\n",
       "|---|---|---|---|---|---|\n",
       "| 0.05490196 | 0.05882353 | 0.07450980 | 1.175377 | 0.048642263 | 0 |\n",
       "| 0.03921569 | 0.03921569 | 0.04313725 | 1.397606 | 0.005890482 | 0 |\n",
       "| 0.08235294 | 0.08627451 | 0.08627451 | 2.286803 | 0.000000000 | 0 |\n",
       "\n"
      ],
      "text/plain": [
       "     p6         p7         p8         V1       V2          V3\n",
       "[1,] 0.05490196 0.05882353 0.07450980 1.175377 0.048642263 0 \n",
       "[2,] 0.03921569 0.03921569 0.04313725 1.397606 0.005890482 0 \n",
       "[3,] 0.08235294 0.08627451 0.08627451 2.286803 0.000000000 0 "
      ]
     },
     "metadata": {},
     "output_type": "display_data"
    }
   ],
   "source": [
    "# add pixels as features\n",
    "pixels_feature_train = X_train[, use_pix]\n",
    "rownames(pixels_feature_train) <- NULL\n",
    "\n",
    "train_data = cbind(pixels_feature_train, clean_train_data, clean_edge_data)\n",
    "train_data[1:3, c(1:3, 97:99)]"
   ]
  },
  {
   "cell_type": "code",
   "execution_count": 24,
   "id": "5e36bda5",
   "metadata": {
    "execution": {
     "iopub.execute_input": "2021-10-22T09:18:39.975362Z",
     "iopub.status.busy": "2021-10-22T09:18:39.974061Z",
     "iopub.status.idle": "2021-10-22T09:18:40.002001Z",
     "shell.execute_reply": "2021-10-22T09:18:40.000626Z"
    },
    "papermill": {
     "duration": 0.095959,
     "end_time": "2021-10-22T09:18:40.002203",
     "exception": false,
     "start_time": "2021-10-22T09:18:39.906244",
     "status": "completed"
    },
    "tags": []
   },
   "outputs": [],
   "source": [
    "# stop if there are any NAs in the data\n",
    "stopifnot(!any(is.na(train_data)))"
   ]
  },
  {
   "cell_type": "code",
   "execution_count": 25,
   "id": "83404f95",
   "metadata": {
    "execution": {
     "iopub.execute_input": "2021-10-22T09:18:40.131709Z",
     "iopub.status.busy": "2021-10-22T09:18:40.130223Z",
     "iopub.status.idle": "2021-10-22T09:19:18.344983Z",
     "shell.execute_reply": "2021-10-22T09:19:18.343444Z"
    },
    "papermill": {
     "duration": 38.281124,
     "end_time": "2021-10-22T09:19:18.345132",
     "exception": false,
     "start_time": "2021-10-22T09:18:40.064008",
     "status": "completed"
    },
    "tags": []
   },
   "outputs": [
    {
     "data": {
      "text/html": [
       "FALSE"
      ],
      "text/latex": [
       "FALSE"
      ],
      "text/markdown": [
       "FALSE"
      ],
      "text/plain": [
       "[1] FALSE"
      ]
     },
     "metadata": {},
     "output_type": "display_data"
    },
    {
     "data": {
      "text/html": [
       "<table class=\"dataframe\">\n",
       "<caption>A data.frame: 6 × 4356</caption>\n",
       "<thead>\n",
       "\t<tr><th></th><th scope=col>V1</th><th scope=col>V2</th><th scope=col>V3</th><th scope=col>V4</th><th scope=col>V5</th><th scope=col>V6</th><th scope=col>V7</th><th scope=col>V8</th><th scope=col>V9</th><th scope=col>V10</th><th scope=col>⋯</th><th scope=col>V4347</th><th scope=col>V4348</th><th scope=col>V4349</th><th scope=col>V4350</th><th scope=col>V4351</th><th scope=col>V4352</th><th scope=col>V4353</th><th scope=col>V4354</th><th scope=col>V4355</th><th scope=col>V4356</th></tr>\n",
       "\t<tr><th></th><th scope=col>&lt;dbl&gt;</th><th scope=col>&lt;dbl&gt;</th><th scope=col>&lt;dbl&gt;</th><th scope=col>&lt;dbl&gt;</th><th scope=col>&lt;dbl&gt;</th><th scope=col>&lt;dbl&gt;</th><th scope=col>&lt;dbl&gt;</th><th scope=col>&lt;dbl&gt;</th><th scope=col>&lt;dbl&gt;</th><th scope=col>&lt;dbl&gt;</th><th scope=col>⋯</th><th scope=col>&lt;dbl&gt;</th><th scope=col>&lt;dbl&gt;</th><th scope=col>&lt;dbl&gt;</th><th scope=col>&lt;dbl&gt;</th><th scope=col>&lt;dbl&gt;</th><th scope=col>&lt;dbl&gt;</th><th scope=col>&lt;dbl&gt;</th><th scope=col>&lt;dbl&gt;</th><th scope=col>&lt;dbl&gt;</th><th scope=col>&lt;dbl&gt;</th></tr>\n",
       "</thead>\n",
       "<tbody>\n",
       "\t<tr><th scope=row>1</th><td>0.88790572</td><td>0.13452379</td><td>0.01247835</td><td>0.005230127</td><td>0.0000000</td><td>0.00000000</td><td>0.03864107</td><td>0.007652155</td><td>0.02250142</td><td>0.4881551</td><td>⋯</td><td>0.07929144</td><td>0.01665669</td><td>0.01338281</td><td>0.020797258</td><td>0.01452572</td><td>1.327271</td><td>0.00000000</td><td>0.00000000</td><td>0.00000000</td><td>0.00000000</td></tr>\n",
       "\t<tr><th scope=row>2</th><td>0.97452324</td><td>0.00000000</td><td>0.00000000</td><td>0.012492986</td><td>0.0000000</td><td>0.00000000</td><td>0.02992787</td><td>0.018313714</td><td>0.05670800</td><td>1.0985770</td><td>⋯</td><td>0.00000000</td><td>0.38823529</td><td>0.00000000</td><td>0.000000000</td><td>0.00000000</td><td>2.521533</td><td>0.00000000</td><td>0.00000000</td><td>0.00000000</td><td>0.00000000</td></tr>\n",
       "\t<tr><th scope=row>3</th><td>4.00000000</td><td>0.00000000</td><td>0.00000000</td><td>0.000000000</td><td>0.1352941</td><td>0.00000000</td><td>0.00000000</td><td>0.000000000</td><td>0.00000000</td><td>0.3621369</td><td>⋯</td><td>0.00000000</td><td>0.00000000</td><td>0.00000000</td><td>0.011974401</td><td>0.01583540</td><td>1.197660</td><td>0.02156294</td><td>0.01423778</td><td>0.01255689</td><td>0.00000000</td></tr>\n",
       "\t<tr><th scope=row>4</th><td>0.48289168</td><td>0.07100379</td><td>1.15504898</td><td>0.000000000</td><td>1.4313725</td><td>0.00000000</td><td>0.04612259</td><td>0.005756824</td><td>0.02261110</td><td>1.8149824</td><td>⋯</td><td>0.00000000</td><td>1.13038218</td><td>0.00000000</td><td>0.006735194</td><td>0.57916254</td><td>1.343565</td><td>0.00000000</td><td>0.00000000</td><td>0.00000000</td><td>0.00000000</td></tr>\n",
       "\t<tr><th scope=row>5</th><td>0.80504247</td><td>0.04990795</td><td>1.24284954</td><td>0.346027349</td><td>1.0627451</td><td>0.00000000</td><td>0.00000000</td><td>0.020148883</td><td>0.06808578</td><td>0.8812244</td><td>⋯</td><td>0.00000000</td><td>0.99215686</td><td>0.00000000</td><td>0.000000000</td><td>0.00000000</td><td>2.272233</td><td>0.00000000</td><td>0.00000000</td><td>0.00000000</td><td>0.00000000</td></tr>\n",
       "\t<tr><th scope=row>6</th><td>0.06427768</td><td>0.00000000</td><td>1.00096436</td><td>0.031213397</td><td>0.4238002</td><td>0.01165933</td><td>0.02592404</td><td>0.018278991</td><td>0.00000000</td><td>2.1806747</td><td>⋯</td><td>0.01143067</td><td>0.24202658</td><td>0.00000000</td><td>0.000000000</td><td>0.00000000</td><td>2.555297</td><td>0.00000000</td><td>0.09104303</td><td>0.00000000</td><td>0.02276161</td></tr>\n",
       "</tbody>\n",
       "</table>\n"
      ],
      "text/latex": [
       "A data.frame: 6 × 4356\n",
       "\\begin{tabular}{r|lllllllllllllllllllll}\n",
       "  & V1 & V2 & V3 & V4 & V5 & V6 & V7 & V8 & V9 & V10 & ⋯ & V4347 & V4348 & V4349 & V4350 & V4351 & V4352 & V4353 & V4354 & V4355 & V4356\\\\\n",
       "  & <dbl> & <dbl> & <dbl> & <dbl> & <dbl> & <dbl> & <dbl> & <dbl> & <dbl> & <dbl> & ⋯ & <dbl> & <dbl> & <dbl> & <dbl> & <dbl> & <dbl> & <dbl> & <dbl> & <dbl> & <dbl>\\\\\n",
       "\\hline\n",
       "\t1 & 0.88790572 & 0.13452379 & 0.01247835 & 0.005230127 & 0.0000000 & 0.00000000 & 0.03864107 & 0.007652155 & 0.02250142 & 0.4881551 & ⋯ & 0.07929144 & 0.01665669 & 0.01338281 & 0.020797258 & 0.01452572 & 1.327271 & 0.00000000 & 0.00000000 & 0.00000000 & 0.00000000\\\\\n",
       "\t2 & 0.97452324 & 0.00000000 & 0.00000000 & 0.012492986 & 0.0000000 & 0.00000000 & 0.02992787 & 0.018313714 & 0.05670800 & 1.0985770 & ⋯ & 0.00000000 & 0.38823529 & 0.00000000 & 0.000000000 & 0.00000000 & 2.521533 & 0.00000000 & 0.00000000 & 0.00000000 & 0.00000000\\\\\n",
       "\t3 & 4.00000000 & 0.00000000 & 0.00000000 & 0.000000000 & 0.1352941 & 0.00000000 & 0.00000000 & 0.000000000 & 0.00000000 & 0.3621369 & ⋯ & 0.00000000 & 0.00000000 & 0.00000000 & 0.011974401 & 0.01583540 & 1.197660 & 0.02156294 & 0.01423778 & 0.01255689 & 0.00000000\\\\\n",
       "\t4 & 0.48289168 & 0.07100379 & 1.15504898 & 0.000000000 & 1.4313725 & 0.00000000 & 0.04612259 & 0.005756824 & 0.02261110 & 1.8149824 & ⋯ & 0.00000000 & 1.13038218 & 0.00000000 & 0.006735194 & 0.57916254 & 1.343565 & 0.00000000 & 0.00000000 & 0.00000000 & 0.00000000\\\\\n",
       "\t5 & 0.80504247 & 0.04990795 & 1.24284954 & 0.346027349 & 1.0627451 & 0.00000000 & 0.00000000 & 0.020148883 & 0.06808578 & 0.8812244 & ⋯ & 0.00000000 & 0.99215686 & 0.00000000 & 0.000000000 & 0.00000000 & 2.272233 & 0.00000000 & 0.00000000 & 0.00000000 & 0.00000000\\\\\n",
       "\t6 & 0.06427768 & 0.00000000 & 1.00096436 & 0.031213397 & 0.4238002 & 0.01165933 & 0.02592404 & 0.018278991 & 0.00000000 & 2.1806747 & ⋯ & 0.01143067 & 0.24202658 & 0.00000000 & 0.000000000 & 0.00000000 & 2.555297 & 0.00000000 & 0.09104303 & 0.00000000 & 0.02276161\\\\\n",
       "\\end{tabular}\n"
      ],
      "text/markdown": [
       "\n",
       "A data.frame: 6 × 4356\n",
       "\n",
       "| <!--/--> | V1 &lt;dbl&gt; | V2 &lt;dbl&gt; | V3 &lt;dbl&gt; | V4 &lt;dbl&gt; | V5 &lt;dbl&gt; | V6 &lt;dbl&gt; | V7 &lt;dbl&gt; | V8 &lt;dbl&gt; | V9 &lt;dbl&gt; | V10 &lt;dbl&gt; | ⋯ ⋯ | V4347 &lt;dbl&gt; | V4348 &lt;dbl&gt; | V4349 &lt;dbl&gt; | V4350 &lt;dbl&gt; | V4351 &lt;dbl&gt; | V4352 &lt;dbl&gt; | V4353 &lt;dbl&gt; | V4354 &lt;dbl&gt; | V4355 &lt;dbl&gt; | V4356 &lt;dbl&gt; |\n",
       "|---|---|---|---|---|---|---|---|---|---|---|---|---|---|---|---|---|---|---|---|---|---|\n",
       "| 1 | 0.88790572 | 0.13452379 | 0.01247835 | 0.005230127 | 0.0000000 | 0.00000000 | 0.03864107 | 0.007652155 | 0.02250142 | 0.4881551 | ⋯ | 0.07929144 | 0.01665669 | 0.01338281 | 0.020797258 | 0.01452572 | 1.327271 | 0.00000000 | 0.00000000 | 0.00000000 | 0.00000000 |\n",
       "| 2 | 0.97452324 | 0.00000000 | 0.00000000 | 0.012492986 | 0.0000000 | 0.00000000 | 0.02992787 | 0.018313714 | 0.05670800 | 1.0985770 | ⋯ | 0.00000000 | 0.38823529 | 0.00000000 | 0.000000000 | 0.00000000 | 2.521533 | 0.00000000 | 0.00000000 | 0.00000000 | 0.00000000 |\n",
       "| 3 | 4.00000000 | 0.00000000 | 0.00000000 | 0.000000000 | 0.1352941 | 0.00000000 | 0.00000000 | 0.000000000 | 0.00000000 | 0.3621369 | ⋯ | 0.00000000 | 0.00000000 | 0.00000000 | 0.011974401 | 0.01583540 | 1.197660 | 0.02156294 | 0.01423778 | 0.01255689 | 0.00000000 |\n",
       "| 4 | 0.48289168 | 0.07100379 | 1.15504898 | 0.000000000 | 1.4313725 | 0.00000000 | 0.04612259 | 0.005756824 | 0.02261110 | 1.8149824 | ⋯ | 0.00000000 | 1.13038218 | 0.00000000 | 0.006735194 | 0.57916254 | 1.343565 | 0.00000000 | 0.00000000 | 0.00000000 | 0.00000000 |\n",
       "| 5 | 0.80504247 | 0.04990795 | 1.24284954 | 0.346027349 | 1.0627451 | 0.00000000 | 0.00000000 | 0.020148883 | 0.06808578 | 0.8812244 | ⋯ | 0.00000000 | 0.99215686 | 0.00000000 | 0.000000000 | 0.00000000 | 2.272233 | 0.00000000 | 0.00000000 | 0.00000000 | 0.00000000 |\n",
       "| 6 | 0.06427768 | 0.00000000 | 1.00096436 | 0.031213397 | 0.4238002 | 0.01165933 | 0.02592404 | 0.018278991 | 0.00000000 | 2.1806747 | ⋯ | 0.01143067 | 0.24202658 | 0.00000000 | 0.000000000 | 0.00000000 | 2.555297 | 0.00000000 | 0.09104303 | 0.00000000 | 0.02276161 |\n",
       "\n"
      ],
      "text/plain": [
       "  V1         V2         V3         V4          V5        V6         V7        \n",
       "1 0.88790572 0.13452379 0.01247835 0.005230127 0.0000000 0.00000000 0.03864107\n",
       "2 0.97452324 0.00000000 0.00000000 0.012492986 0.0000000 0.00000000 0.02992787\n",
       "3 4.00000000 0.00000000 0.00000000 0.000000000 0.1352941 0.00000000 0.00000000\n",
       "4 0.48289168 0.07100379 1.15504898 0.000000000 1.4313725 0.00000000 0.04612259\n",
       "5 0.80504247 0.04990795 1.24284954 0.346027349 1.0627451 0.00000000 0.00000000\n",
       "6 0.06427768 0.00000000 1.00096436 0.031213397 0.4238002 0.01165933 0.02592404\n",
       "  V8          V9         V10       ⋯ V4347      V4348      V4349     \n",
       "1 0.007652155 0.02250142 0.4881551 ⋯ 0.07929144 0.01665669 0.01338281\n",
       "2 0.018313714 0.05670800 1.0985770 ⋯ 0.00000000 0.38823529 0.00000000\n",
       "3 0.000000000 0.00000000 0.3621369 ⋯ 0.00000000 0.00000000 0.00000000\n",
       "4 0.005756824 0.02261110 1.8149824 ⋯ 0.00000000 1.13038218 0.00000000\n",
       "5 0.020148883 0.06808578 0.8812244 ⋯ 0.00000000 0.99215686 0.00000000\n",
       "6 0.018278991 0.00000000 2.1806747 ⋯ 0.01143067 0.24202658 0.00000000\n",
       "  V4350       V4351      V4352    V4353      V4354      V4355      V4356     \n",
       "1 0.020797258 0.01452572 1.327271 0.00000000 0.00000000 0.00000000 0.00000000\n",
       "2 0.000000000 0.00000000 2.521533 0.00000000 0.00000000 0.00000000 0.00000000\n",
       "3 0.011974401 0.01583540 1.197660 0.02156294 0.01423778 0.01255689 0.00000000\n",
       "4 0.006735194 0.57916254 1.343565 0.00000000 0.00000000 0.00000000 0.00000000\n",
       "5 0.000000000 0.00000000 2.272233 0.00000000 0.00000000 0.00000000 0.00000000\n",
       "6 0.000000000 0.00000000 2.555297 0.00000000 0.09104303 0.00000000 0.02276161"
      ]
     },
     "metadata": {},
     "output_type": "display_data"
    },
    {
     "data": {
      "text/html": [
       "FALSE"
      ],
      "text/latex": [
       "FALSE"
      ],
      "text/markdown": [
       "FALSE"
      ],
      "text/plain": [
       "[1] FALSE"
      ]
     },
     "metadata": {},
     "output_type": "display_data"
    },
    {
     "data": {
      "text/html": [
       "<table class=\"dataframe\">\n",
       "<caption>A data.frame: 6 × 48</caption>\n",
       "<thead>\n",
       "\t<tr><th></th><th scope=col>H_x.box</th><th scope=col>H_y.box</th><th scope=col>H_width</th><th scope=col>H_high</th><th scope=col>H_onpix</th><th scope=col>H_x.bar</th><th scope=col>H_y.bar</th><th scope=col>H_x2bar</th><th scope=col>H_y2bar</th><th scope=col>H_xybar</th><th scope=col>⋯</th><th scope=col>D_y.bar</th><th scope=col>D_x2bar</th><th scope=col>D_y2bar</th><th scope=col>D_xybar</th><th scope=col>D_x2ybar</th><th scope=col>D_xy2bar</th><th scope=col>D_x.ege</th><th scope=col>D_xegvy</th><th scope=col>D_y.ege</th><th scope=col>D_yegvx</th></tr>\n",
       "\t<tr><th></th><th scope=col>&lt;dbl&gt;</th><th scope=col>&lt;dbl&gt;</th><th scope=col>&lt;dbl&gt;</th><th scope=col>&lt;dbl&gt;</th><th scope=col>&lt;dbl&gt;</th><th scope=col>&lt;dbl&gt;</th><th scope=col>&lt;dbl&gt;</th><th scope=col>&lt;dbl&gt;</th><th scope=col>&lt;dbl&gt;</th><th scope=col>&lt;dbl&gt;</th><th scope=col>⋯</th><th scope=col>&lt;dbl&gt;</th><th scope=col>&lt;dbl&gt;</th><th scope=col>&lt;dbl&gt;</th><th scope=col>&lt;dbl&gt;</th><th scope=col>&lt;dbl&gt;</th><th scope=col>&lt;dbl&gt;</th><th scope=col>&lt;dbl&gt;</th><th scope=col>&lt;dbl&gt;</th><th scope=col>&lt;dbl&gt;</th><th scope=col>&lt;dbl&gt;</th></tr>\n",
       "</thead>\n",
       "<tbody>\n",
       "\t<tr><th scope=row>1</th><td>7.978723</td><td>8.138298</td><td>14.68085</td><td>15</td><td>12.57583</td><td>7.295478</td><td>7.463175</td><td>3.619980</td><td>3.779167</td><td>3.670657</td><td>⋯</td><td>7.290934</td><td>3.620265</td><td>3.619075</td><td>3.592564</td><td>1.757752</td><td>1.757731</td><td>16.00000</td><td>17.89271</td><td>13.86364</td><td>23.00589</td></tr>\n",
       "\t<tr><th scope=row>2</th><td>7.978723</td><td>8.138298</td><td>14.68085</td><td>15</td><td>12.65052</td><td>7.268894</td><td>7.469502</td><td>3.620587</td><td>3.778740</td><td>3.670555</td><td>⋯</td><td>7.288777</td><td>3.620260</td><td>3.619240</td><td>3.592697</td><td>1.757752</td><td>1.757750</td><td>15.40541</td><td>19.05387</td><td>14.20455</td><td>21.60706</td></tr>\n",
       "\t<tr><th scope=row>3</th><td>7.978723</td><td>8.138298</td><td>14.68085</td><td>15</td><td>12.71842</td><td>7.270960</td><td>7.463973</td><td>3.620629</td><td>3.778712</td><td>3.671071</td><td>⋯</td><td>7.291990</td><td>3.619183</td><td>3.618804</td><td>3.592852</td><td>1.757759</td><td>1.757756</td><td>11.07143</td><td>13.56722</td><td>12.77778</td><td>17.34948</td></tr>\n",
       "\t<tr><th scope=row>4</th><td>7.978723</td><td>8.138298</td><td>14.68085</td><td>15</td><td>12.75238</td><td>7.290288</td><td>7.478161</td><td>3.619987</td><td>3.779358</td><td>3.670455</td><td>⋯</td><td>7.287384</td><td>3.619838</td><td>3.619427</td><td>3.592699</td><td>1.757746</td><td>1.757744</td><td>13.92857</td><td>20.54097</td><td>13.45238</td><td>21.57311</td></tr>\n",
       "\t<tr><th scope=row>5</th><td>7.978723</td><td>8.138298</td><td>14.68085</td><td>15</td><td>12.72522</td><td>7.272729</td><td>7.469520</td><td>3.620320</td><td>3.778952</td><td>3.670527</td><td>⋯</td><td>7.276124</td><td>3.619079</td><td>3.618959</td><td>3.592171</td><td>1.757746</td><td>1.757771</td><td>12.73810</td><td>21.47125</td><td>13.21429</td><td>17.83160</td></tr>\n",
       "\t<tr><th scope=row>6</th><td>7.978723</td><td>8.138298</td><td>14.68085</td><td>15</td><td>12.39249</td><td>7.262119</td><td>7.463689</td><td>3.619486</td><td>3.778851</td><td>3.670305</td><td>⋯</td><td>7.281508</td><td>3.619350</td><td>3.619001</td><td>3.592649</td><td>1.757751</td><td>1.757786</td><td>10.54348</td><td>17.40380</td><td>11.77778</td><td>20.13354</td></tr>\n",
       "</tbody>\n",
       "</table>\n"
      ],
      "text/latex": [
       "A data.frame: 6 × 48\n",
       "\\begin{tabular}{r|lllllllllllllllllllll}\n",
       "  & H\\_x.box & H\\_y.box & H\\_width & H\\_high & H\\_onpix & H\\_x.bar & H\\_y.bar & H\\_x2bar & H\\_y2bar & H\\_xybar & ⋯ & D\\_y.bar & D\\_x2bar & D\\_y2bar & D\\_xybar & D\\_x2ybar & D\\_xy2bar & D\\_x.ege & D\\_xegvy & D\\_y.ege & D\\_yegvx\\\\\n",
       "  & <dbl> & <dbl> & <dbl> & <dbl> & <dbl> & <dbl> & <dbl> & <dbl> & <dbl> & <dbl> & ⋯ & <dbl> & <dbl> & <dbl> & <dbl> & <dbl> & <dbl> & <dbl> & <dbl> & <dbl> & <dbl>\\\\\n",
       "\\hline\n",
       "\t1 & 7.978723 & 8.138298 & 14.68085 & 15 & 12.57583 & 7.295478 & 7.463175 & 3.619980 & 3.779167 & 3.670657 & ⋯ & 7.290934 & 3.620265 & 3.619075 & 3.592564 & 1.757752 & 1.757731 & 16.00000 & 17.89271 & 13.86364 & 23.00589\\\\\n",
       "\t2 & 7.978723 & 8.138298 & 14.68085 & 15 & 12.65052 & 7.268894 & 7.469502 & 3.620587 & 3.778740 & 3.670555 & ⋯ & 7.288777 & 3.620260 & 3.619240 & 3.592697 & 1.757752 & 1.757750 & 15.40541 & 19.05387 & 14.20455 & 21.60706\\\\\n",
       "\t3 & 7.978723 & 8.138298 & 14.68085 & 15 & 12.71842 & 7.270960 & 7.463973 & 3.620629 & 3.778712 & 3.671071 & ⋯ & 7.291990 & 3.619183 & 3.618804 & 3.592852 & 1.757759 & 1.757756 & 11.07143 & 13.56722 & 12.77778 & 17.34948\\\\\n",
       "\t4 & 7.978723 & 8.138298 & 14.68085 & 15 & 12.75238 & 7.290288 & 7.478161 & 3.619987 & 3.779358 & 3.670455 & ⋯ & 7.287384 & 3.619838 & 3.619427 & 3.592699 & 1.757746 & 1.757744 & 13.92857 & 20.54097 & 13.45238 & 21.57311\\\\\n",
       "\t5 & 7.978723 & 8.138298 & 14.68085 & 15 & 12.72522 & 7.272729 & 7.469520 & 3.620320 & 3.778952 & 3.670527 & ⋯ & 7.276124 & 3.619079 & 3.618959 & 3.592171 & 1.757746 & 1.757771 & 12.73810 & 21.47125 & 13.21429 & 17.83160\\\\\n",
       "\t6 & 7.978723 & 8.138298 & 14.68085 & 15 & 12.39249 & 7.262119 & 7.463689 & 3.619486 & 3.778851 & 3.670305 & ⋯ & 7.281508 & 3.619350 & 3.619001 & 3.592649 & 1.757751 & 1.757786 & 10.54348 & 17.40380 & 11.77778 & 20.13354\\\\\n",
       "\\end{tabular}\n"
      ],
      "text/markdown": [
       "\n",
       "A data.frame: 6 × 48\n",
       "\n",
       "| <!--/--> | H_x.box &lt;dbl&gt; | H_y.box &lt;dbl&gt; | H_width &lt;dbl&gt; | H_high &lt;dbl&gt; | H_onpix &lt;dbl&gt; | H_x.bar &lt;dbl&gt; | H_y.bar &lt;dbl&gt; | H_x2bar &lt;dbl&gt; | H_y2bar &lt;dbl&gt; | H_xybar &lt;dbl&gt; | ⋯ ⋯ | D_y.bar &lt;dbl&gt; | D_x2bar &lt;dbl&gt; | D_y2bar &lt;dbl&gt; | D_xybar &lt;dbl&gt; | D_x2ybar &lt;dbl&gt; | D_xy2bar &lt;dbl&gt; | D_x.ege &lt;dbl&gt; | D_xegvy &lt;dbl&gt; | D_y.ege &lt;dbl&gt; | D_yegvx &lt;dbl&gt; |\n",
       "|---|---|---|---|---|---|---|---|---|---|---|---|---|---|---|---|---|---|---|---|---|---|\n",
       "| 1 | 7.978723 | 8.138298 | 14.68085 | 15 | 12.57583 | 7.295478 | 7.463175 | 3.619980 | 3.779167 | 3.670657 | ⋯ | 7.290934 | 3.620265 | 3.619075 | 3.592564 | 1.757752 | 1.757731 | 16.00000 | 17.89271 | 13.86364 | 23.00589 |\n",
       "| 2 | 7.978723 | 8.138298 | 14.68085 | 15 | 12.65052 | 7.268894 | 7.469502 | 3.620587 | 3.778740 | 3.670555 | ⋯ | 7.288777 | 3.620260 | 3.619240 | 3.592697 | 1.757752 | 1.757750 | 15.40541 | 19.05387 | 14.20455 | 21.60706 |\n",
       "| 3 | 7.978723 | 8.138298 | 14.68085 | 15 | 12.71842 | 7.270960 | 7.463973 | 3.620629 | 3.778712 | 3.671071 | ⋯ | 7.291990 | 3.619183 | 3.618804 | 3.592852 | 1.757759 | 1.757756 | 11.07143 | 13.56722 | 12.77778 | 17.34948 |\n",
       "| 4 | 7.978723 | 8.138298 | 14.68085 | 15 | 12.75238 | 7.290288 | 7.478161 | 3.619987 | 3.779358 | 3.670455 | ⋯ | 7.287384 | 3.619838 | 3.619427 | 3.592699 | 1.757746 | 1.757744 | 13.92857 | 20.54097 | 13.45238 | 21.57311 |\n",
       "| 5 | 7.978723 | 8.138298 | 14.68085 | 15 | 12.72522 | 7.272729 | 7.469520 | 3.620320 | 3.778952 | 3.670527 | ⋯ | 7.276124 | 3.619079 | 3.618959 | 3.592171 | 1.757746 | 1.757771 | 12.73810 | 21.47125 | 13.21429 | 17.83160 |\n",
       "| 6 | 7.978723 | 8.138298 | 14.68085 | 15 | 12.39249 | 7.262119 | 7.463689 | 3.619486 | 3.778851 | 3.670305 | ⋯ | 7.281508 | 3.619350 | 3.619001 | 3.592649 | 1.757751 | 1.757786 | 10.54348 | 17.40380 | 11.77778 | 20.13354 |\n",
       "\n"
      ],
      "text/plain": [
       "  H_x.box  H_y.box  H_width  H_high H_onpix  H_x.bar  H_y.bar  H_x2bar \n",
       "1 7.978723 8.138298 14.68085 15     12.57583 7.295478 7.463175 3.619980\n",
       "2 7.978723 8.138298 14.68085 15     12.65052 7.268894 7.469502 3.620587\n",
       "3 7.978723 8.138298 14.68085 15     12.71842 7.270960 7.463973 3.620629\n",
       "4 7.978723 8.138298 14.68085 15     12.75238 7.290288 7.478161 3.619987\n",
       "5 7.978723 8.138298 14.68085 15     12.72522 7.272729 7.469520 3.620320\n",
       "6 7.978723 8.138298 14.68085 15     12.39249 7.262119 7.463689 3.619486\n",
       "  H_y2bar  H_xybar  ⋯ D_y.bar  D_x2bar  D_y2bar  D_xybar  D_x2ybar D_xy2bar\n",
       "1 3.779167 3.670657 ⋯ 7.290934 3.620265 3.619075 3.592564 1.757752 1.757731\n",
       "2 3.778740 3.670555 ⋯ 7.288777 3.620260 3.619240 3.592697 1.757752 1.757750\n",
       "3 3.778712 3.671071 ⋯ 7.291990 3.619183 3.618804 3.592852 1.757759 1.757756\n",
       "4 3.779358 3.670455 ⋯ 7.287384 3.619838 3.619427 3.592699 1.757746 1.757744\n",
       "5 3.778952 3.670527 ⋯ 7.276124 3.619079 3.618959 3.592171 1.757746 1.757771\n",
       "6 3.778851 3.670305 ⋯ 7.281508 3.619350 3.619001 3.592649 1.757751 1.757786\n",
       "  D_x.ege  D_xegvy  D_y.ege  D_yegvx \n",
       "1 16.00000 17.89271 13.86364 23.00589\n",
       "2 15.40541 19.05387 14.20455 21.60706\n",
       "3 11.07143 13.56722 12.77778 17.34948\n",
       "4 13.92857 20.54097 13.45238 21.57311\n",
       "5 12.73810 21.47125 13.21429 17.83160\n",
       "6 10.54348 17.40380 11.77778 20.13354"
      ]
     },
     "metadata": {},
     "output_type": "display_data"
    },
    {
     "data": {
      "text/html": [
       "<table class=\"dataframe\">\n",
       "<caption>A matrix: 3 × 5 of type dbl</caption>\n",
       "<thead>\n",
       "\t<tr><th scope=col>V1</th><th scope=col>V2</th><th scope=col>V3</th><th scope=col>V4</th><th scope=col>V5</th></tr>\n",
       "</thead>\n",
       "<tbody>\n",
       "\t<tr><td>0.8879057</td><td>0.1345238</td><td>0.01247835</td><td>0.005230127</td><td>0.0000000</td></tr>\n",
       "\t<tr><td>0.9745232</td><td>0.0000000</td><td>0.00000000</td><td>0.012492986</td><td>0.0000000</td></tr>\n",
       "\t<tr><td>4.0000000</td><td>0.0000000</td><td>0.00000000</td><td>0.000000000</td><td>0.1352941</td></tr>\n",
       "</tbody>\n",
       "</table>\n"
      ],
      "text/latex": [
       "A matrix: 3 × 5 of type dbl\n",
       "\\begin{tabular}{lllll}\n",
       " V1 & V2 & V3 & V4 & V5\\\\\n",
       "\\hline\n",
       "\t 0.8879057 & 0.1345238 & 0.01247835 & 0.005230127 & 0.0000000\\\\\n",
       "\t 0.9745232 & 0.0000000 & 0.00000000 & 0.012492986 & 0.0000000\\\\\n",
       "\t 4.0000000 & 0.0000000 & 0.00000000 & 0.000000000 & 0.1352941\\\\\n",
       "\\end{tabular}\n"
      ],
      "text/markdown": [
       "\n",
       "A matrix: 3 × 5 of type dbl\n",
       "\n",
       "| V1 | V2 | V3 | V4 | V5 |\n",
       "|---|---|---|---|---|\n",
       "| 0.8879057 | 0.1345238 | 0.01247835 | 0.005230127 | 0.0000000 |\n",
       "| 0.9745232 | 0.0000000 | 0.00000000 | 0.012492986 | 0.0000000 |\n",
       "| 4.0000000 | 0.0000000 | 0.00000000 | 0.000000000 | 0.1352941 |\n",
       "\n"
      ],
      "text/plain": [
       "     V1        V2        V3         V4          V5       \n",
       "[1,] 0.8879057 0.1345238 0.01247835 0.005230127 0.0000000\n",
       "[2,] 0.9745232 0.0000000 0.00000000 0.012492986 0.0000000\n",
       "[3,] 4.0000000 0.0000000 0.00000000 0.000000000 0.1352941"
      ]
     },
     "metadata": {},
     "output_type": "display_data"
    },
    {
     "data": {
      "text/html": [
       "<table class=\"dataframe\">\n",
       "<caption>A matrix: 3 × 6 of type dbl</caption>\n",
       "<thead>\n",
       "\t<tr><th scope=col>p6</th><th scope=col>p7</th><th scope=col>p8</th><th scope=col>V1</th><th scope=col>V2</th><th scope=col>V3</th></tr>\n",
       "</thead>\n",
       "<tbody>\n",
       "\t<tr><td>0.03921569</td><td>0.05490196</td><td>0.08235294</td><td>0.8879057</td><td>0.1345238</td><td>0.01247835</td></tr>\n",
       "\t<tr><td>0.04313725</td><td>0.04313725</td><td>0.04705882</td><td>0.9745232</td><td>0.0000000</td><td>0.00000000</td></tr>\n",
       "\t<tr><td>0.07450980</td><td>0.03529412</td><td>0.03529412</td><td>4.0000000</td><td>0.0000000</td><td>0.00000000</td></tr>\n",
       "</tbody>\n",
       "</table>\n"
      ],
      "text/latex": [
       "A matrix: 3 × 6 of type dbl\n",
       "\\begin{tabular}{llllll}\n",
       " p6 & p7 & p8 & V1 & V2 & V3\\\\\n",
       "\\hline\n",
       "\t 0.03921569 & 0.05490196 & 0.08235294 & 0.8879057 & 0.1345238 & 0.01247835\\\\\n",
       "\t 0.04313725 & 0.04313725 & 0.04705882 & 0.9745232 & 0.0000000 & 0.00000000\\\\\n",
       "\t 0.07450980 & 0.03529412 & 0.03529412 & 4.0000000 & 0.0000000 & 0.00000000\\\\\n",
       "\\end{tabular}\n"
      ],
      "text/markdown": [
       "\n",
       "A matrix: 3 × 6 of type dbl\n",
       "\n",
       "| p6 | p7 | p8 | V1 | V2 | V3 |\n",
       "|---|---|---|---|---|---|\n",
       "| 0.03921569 | 0.05490196 | 0.08235294 | 0.8879057 | 0.1345238 | 0.01247835 |\n",
       "| 0.04313725 | 0.04313725 | 0.04705882 | 0.9745232 | 0.0000000 | 0.00000000 |\n",
       "| 0.07450980 | 0.03529412 | 0.03529412 | 4.0000000 | 0.0000000 | 0.00000000 |\n",
       "\n"
      ],
      "text/plain": [
       "     p6         p7         p8         V1        V2        V3        \n",
       "[1,] 0.03921569 0.05490196 0.08235294 0.8879057 0.1345238 0.01247835\n",
       "[2,] 0.04313725 0.04313725 0.04705882 0.9745232 0.0000000 0.00000000\n",
       "[3,] 0.07450980 0.03529412 0.03529412 4.0000000 0.0000000 0.00000000"
      ]
     },
     "metadata": {},
     "output_type": "display_data"
    }
   ],
   "source": [
    "# test data\n",
    "pixels_feature_test = X_test[, use_pix]\n",
    "rownames(pixels_feature_test) = NULL\n",
    "\n",
    "HOG_features_test_df = HOG_features(X_test)\n",
    "any(is.na(HOG_features_test_df))\n",
    "head(HOG_features_test_df)\n",
    "\n",
    "edge_test_data = edge_features(X_test)\n",
    "any(is.na(edge_test_data))\n",
    "head(edge_test_data)\n",
    "\n",
    "# remove same features as for train data?\n",
    "clean_test_data = HOG_features_test_df %>%\n",
    "  select(-all_of(nzv), -all_of(high_cor)) %>%\n",
    "  as.matrix()\n",
    "clean_test_data[1:3, 1:5]\n",
    "\n",
    "clean_test_edge = edge_test_data %>%\n",
    "  select(-all_of(nzv_edge), -all_of(high_cor_predictors_edge)) %>%\n",
    "  as.matrix()\n",
    "\n",
    "test_data = cbind(pixels_feature_test, clean_test_data, clean_test_edge)\n",
    "test_data[1:3, c(1:3, 97:99)]"
   ]
  },
  {
   "cell_type": "markdown",
   "id": "a2b43d6a",
   "metadata": {
    "papermill": {
     "duration": 0.066191,
     "end_time": "2021-10-22T09:19:18.477304",
     "exception": false,
     "start_time": "2021-10-22T09:19:18.411113",
     "status": "completed"
    },
    "tags": []
   },
   "source": [
    "# Fit a model\n",
    "\n",
    "To figure out which model provides the best trade off between bias and variance, between accuracy and flexibility, one strategy is to fit both a flexible and a more rigid model and determine from CV error which direction on the flexiblity axis we should go to avoid overtraining.\n",
    "\n",
    "We are starting with Lasso and Ridge as model fits. We have a lot of variables in the data because we ause all the pixels as predictors so we think lasso might have a good fit on the dataset.\n",
    "\n",
    "We also consider classification trees and random forests here. Random forests are probably the least susceptible to overtraining and is considered one of the best \"off the shelf\" machine learning algorithms in the sense that they require little expertise in application.\n",
    "\n",
    "After the the trees we look at LDA and knn/knns and see how they perform trying to classify the da\n",
    "\n"
   ]
  },
  {
   "cell_type": "markdown",
   "id": "75780c07",
   "metadata": {
    "papermill": {
     "duration": 0.066592,
     "end_time": "2021-10-22T09:19:18.610669",
     "exception": false,
     "start_time": "2021-10-22T09:19:18.544077",
     "status": "completed"
    },
    "tags": []
   },
   "source": [
    "# Splitting up the data\n",
    "Idea taken from group 9: Using a funtion to split up the data train into a test and train set to gain a better insight in the accuracy of the model in the model comparison at the end."
   ]
  },
  {
   "cell_type": "code",
   "execution_count": 26,
   "id": "08d0ea85",
   "metadata": {
    "execution": {
     "iopub.execute_input": "2021-10-22T09:19:18.748725Z",
     "iopub.status.busy": "2021-10-22T09:19:18.747032Z",
     "iopub.status.idle": "2021-10-22T09:19:18.800040Z",
     "shell.execute_reply": "2021-10-22T09:19:18.798626Z"
    },
    "papermill": {
     "duration": 0.12366,
     "end_time": "2021-10-22T09:19:18.800181",
     "exception": false,
     "start_time": "2021-10-22T09:19:18.676521",
     "status": "completed"
    },
    "tags": []
   },
   "outputs": [],
   "source": [
    "TrainIndex = caret::createDataPartition(y, p = 0.8, list = FALSE)\n"
   ]
  },
  {
   "cell_type": "markdown",
   "id": "945f424f",
   "metadata": {
    "papermill": {
     "duration": 0.067416,
     "end_time": "2021-10-22T09:19:18.933746",
     "exception": false,
     "start_time": "2021-10-22T09:19:18.866330",
     "status": "completed"
    },
    "tags": []
   },
   "source": [
    "## Lasso Regression"
   ]
  },
  {
   "cell_type": "code",
   "execution_count": 27,
   "id": "24794bf5",
   "metadata": {
    "execution": {
     "iopub.execute_input": "2021-10-22T09:19:19.075765Z",
     "iopub.status.busy": "2021-10-22T09:19:19.073712Z",
     "iopub.status.idle": "2021-10-22T09:20:43.104340Z",
     "shell.execute_reply": "2021-10-22T09:20:43.104965Z"
    },
    "papermill": {
     "duration": 84.102599,
     "end_time": "2021-10-22T09:20:43.105136",
     "exception": false,
     "start_time": "2021-10-22T09:19:19.002537",
     "status": "completed"
    },
    "tags": []
   },
   "outputs": [
    {
     "data": {
      "text/plain": [
       "glmnet \n",
       "\n",
       "2032 samples\n",
       "1420 predictors\n",
       "   4 classes: 'anger', 'disgust', 'happy', 'sad' \n",
       "\n",
       "No pre-processing\n",
       "Resampling: Cross-Validated (5 fold) \n",
       "Summary of sample sizes: 1626, 1625, 1624, 1626, 1627 \n",
       "Resampling results:\n",
       "\n",
       "  Accuracy   Kappa    \n",
       "  0.9188072  0.8882475\n",
       "\n",
       "Tuning parameter 'alpha' was held constant at a value of 1\n",
       "Tuning\n",
       " parameter 'lambda' was held constant at a value of 0.004"
      ]
     },
     "metadata": {},
     "output_type": "display_data"
    }
   ],
   "source": [
    "# Fit a CART using 5-fold cross-validation to tune the complexity parameter\n",
    "trCntrl = trainControl('cv', 5, allowParallel = TRUE)\n",
    "\n",
    "lasso_fit = train(train_data[TrainIndex,], y[TrainIndex], \n",
    "                  method = 'glmnet', trControl = trCntrl,\n",
    "                  tuneGrid = expand.grid(alpha = 1, lambda = 0.004))\n",
    "\n",
    "lasso_fit"
   ]
  },
  {
   "cell_type": "markdown",
   "id": "4556c9fa",
   "metadata": {
    "papermill": {
     "duration": 0.067449,
     "end_time": "2021-10-22T09:20:43.240018",
     "exception": false,
     "start_time": "2021-10-22T09:20:43.172569",
     "status": "completed"
    },
    "tags": []
   },
   "source": [
    "## Ridge Regression"
   ]
  },
  {
   "cell_type": "code",
   "execution_count": 28,
   "id": "0289a797",
   "metadata": {
    "execution": {
     "iopub.execute_input": "2021-10-22T09:20:43.382227Z",
     "iopub.status.busy": "2021-10-22T09:20:43.380191Z",
     "iopub.status.idle": "2021-10-22T09:25:12.714036Z",
     "shell.execute_reply": "2021-10-22T09:25:12.714562Z"
    },
    "papermill": {
     "duration": 269.407529,
     "end_time": "2021-10-22T09:25:12.714741",
     "exception": false,
     "start_time": "2021-10-22T09:20:43.307212",
     "status": "completed"
    },
    "tags": []
   },
   "outputs": [
    {
     "data": {
      "text/plain": [
       "glmnet \n",
       "\n",
       "2032 samples\n",
       "1420 predictors\n",
       "   4 classes: 'anger', 'disgust', 'happy', 'sad' \n",
       "\n",
       "No pre-processing\n",
       "Resampling: Cross-Validated (5 fold) \n",
       "Summary of sample sizes: 1626, 1626, 1624, 1626, 1626 \n",
       "Resampling results:\n",
       "\n",
       "  Accuracy   Kappa    \n",
       "  0.9458683  0.9255148\n",
       "\n",
       "Tuning parameter 'alpha' was held constant at a value of 0\n",
       "Tuning\n",
       " parameter 'lambda' was held constant at a value of 0.002"
      ]
     },
     "metadata": {},
     "output_type": "display_data"
    }
   ],
   "source": [
    "## Check performance on training set\n",
    "ridge_fit <- train(train_data[TrainIndex,], y[TrainIndex], \n",
    "                   method = 'glmnet', trControl = trCntrl,\n",
    "                   tuneGrid = expand.grid(alpha = 0, lambda = 0.002))\n",
    "\n",
    "ridge_fit"
   ]
  },
  {
   "cell_type": "markdown",
   "id": "a862dc81",
   "metadata": {
    "papermill": {
     "duration": 0.068518,
     "end_time": "2021-10-22T09:25:12.851498",
     "exception": false,
     "start_time": "2021-10-22T09:25:12.782980",
     "status": "completed"
    },
    "tags": []
   },
   "source": [
    "## Classification Tree\n",
    "\n",
    "Here we fit a classification tree, using the pixel based approach."
   ]
  },
  {
   "cell_type": "code",
   "execution_count": 29,
   "id": "a5ef8453",
   "metadata": {
    "execution": {
     "iopub.execute_input": "2021-10-22T09:25:12.993090Z",
     "iopub.status.busy": "2021-10-22T09:25:12.991186Z",
     "iopub.status.idle": "2021-10-22T09:25:27.131665Z",
     "shell.execute_reply": "2021-10-22T09:25:27.129511Z"
    },
    "papermill": {
     "duration": 14.213269,
     "end_time": "2021-10-22T09:25:27.131941",
     "exception": false,
     "start_time": "2021-10-22T09:25:12.918672",
     "status": "completed"
    },
    "tags": []
   },
   "outputs": [
    {
     "data": {
      "text/plain": [
       "CART \n",
       "\n",
       "2032 samples\n",
       "1420 predictors\n",
       "   4 classes: 'anger', 'disgust', 'happy', 'sad' \n",
       "\n",
       "No pre-processing\n",
       "Resampling: Cross-Validated (5 fold) \n",
       "Summary of sample sizes: 1625, 1626, 1626, 1625, 1626 \n",
       "Resampling results:\n",
       "\n",
       "  Accuracy   Kappa   \n",
       "  0.5925104  0.433057\n",
       "\n",
       "Tuning parameter 'cp' was held constant at a value of 0.02"
      ]
     },
     "metadata": {},
     "output_type": "display_data"
    }
   ],
   "source": [
    "suppressMessages(require(caret))\n",
    "# Use multiple cores whenever possible\n",
    "library(parallel)\n",
    "suppressMessages(library(doParallel))\n",
    "(detectCores() - 1) %>% makeCluster() %>% registerDoParallel()\n",
    "\n",
    "fit_tree = train(x = train_data[TrainIndex,], y = y[TrainIndex], method = 'rpart', trControl = trCntrl, tuneGrid = data.frame(cp = .02))\n",
    "fit_tree"
   ]
  },
  {
   "cell_type": "markdown",
   "id": "fd1fd790",
   "metadata": {
    "papermill": {
     "duration": 0.069634,
     "end_time": "2021-10-22T09:25:27.270573",
     "exception": false,
     "start_time": "2021-10-22T09:25:27.200939",
     "status": "completed"
    },
    "tags": []
   },
   "source": [
    "# LDA"
   ]
  },
  {
   "cell_type": "markdown",
   "id": "5f4da66b",
   "metadata": {
    "papermill": {
     "duration": 0.069155,
     "end_time": "2021-10-22T09:25:27.410800",
     "exception": false,
     "start_time": "2021-10-22T09:25:27.341645",
     "status": "completed"
    },
    "tags": []
   },
   "source": [
    "Variables 1415 and 1416 had to be removed for the lda because they appeared to be constant within groups. That is why a new dataset for lda is created."
   ]
  },
  {
   "cell_type": "code",
   "execution_count": 30,
   "id": "33fad754",
   "metadata": {
    "execution": {
     "iopub.execute_input": "2021-10-22T09:25:27.559847Z",
     "iopub.status.busy": "2021-10-22T09:25:27.557350Z",
     "iopub.status.idle": "2021-10-22T09:26:01.713772Z",
     "shell.execute_reply": "2021-10-22T09:26:01.714293Z"
    },
    "papermill": {
     "duration": 34.234612,
     "end_time": "2021-10-22T09:26:01.714473",
     "exception": false,
     "start_time": "2021-10-22T09:25:27.479861",
     "status": "completed"
    },
    "tags": []
   },
   "outputs": [
    {
     "data": {
      "text/html": [
       "<table class=\"dataframe\">\n",
       "<caption>A matrix: 6 × 2 of type dbl</caption>\n",
       "<thead>\n",
       "\t<tr><th scope=col>D_x2ybar</th><th scope=col>D_xy2bar</th></tr>\n",
       "</thead>\n",
       "<tbody>\n",
       "\t<tr><td>1.757745</td><td>1.757724</td></tr>\n",
       "\t<tr><td>1.757727</td><td>1.757750</td></tr>\n",
       "\t<tr><td>1.757744</td><td>1.757751</td></tr>\n",
       "\t<tr><td>1.757754</td><td>1.757746</td></tr>\n",
       "\t<tr><td>1.757747</td><td>1.757717</td></tr>\n",
       "\t<tr><td>1.757753</td><td>1.757722</td></tr>\n",
       "</tbody>\n",
       "</table>\n"
      ],
      "text/latex": [
       "A matrix: 6 × 2 of type dbl\n",
       "\\begin{tabular}{ll}\n",
       " D\\_x2ybar & D\\_xy2bar\\\\\n",
       "\\hline\n",
       "\t 1.757745 & 1.757724\\\\\n",
       "\t 1.757727 & 1.757750\\\\\n",
       "\t 1.757744 & 1.757751\\\\\n",
       "\t 1.757754 & 1.757746\\\\\n",
       "\t 1.757747 & 1.757717\\\\\n",
       "\t 1.757753 & 1.757722\\\\\n",
       "\\end{tabular}\n"
      ],
      "text/markdown": [
       "\n",
       "A matrix: 6 × 2 of type dbl\n",
       "\n",
       "| D_x2ybar | D_xy2bar |\n",
       "|---|---|\n",
       "| 1.757745 | 1.757724 |\n",
       "| 1.757727 | 1.757750 |\n",
       "| 1.757744 | 1.757751 |\n",
       "| 1.757754 | 1.757746 |\n",
       "| 1.757747 | 1.757717 |\n",
       "| 1.757753 | 1.757722 |\n",
       "\n"
      ],
      "text/plain": [
       "     D_x2ybar D_xy2bar\n",
       "[1,] 1.757745 1.757724\n",
       "[2,] 1.757727 1.757750\n",
       "[3,] 1.757744 1.757751\n",
       "[4,] 1.757754 1.757746\n",
       "[5,] 1.757747 1.757717\n",
       "[6,] 1.757753 1.757722"
      ]
     },
     "metadata": {},
     "output_type": "display_data"
    },
    {
     "name": "stderr",
     "output_type": "stream",
     "text": [
      "Warning message:\n",
      "“`as.tibble()` was deprecated in tibble 2.0.0.\n",
      "Please use `as_tibble()` instead.\n",
      "The signature and semantics have changed, see `?as_tibble`.\n",
      "\u001b[90mThis warning is displayed once every 8 hours.\u001b[39m\n",
      "\u001b[90mCall `lifecycle::last_warnings()` to see where this warning was generated.\u001b[39m”\n",
      "Warning message:\n",
      "“Setting row names on a tibble is deprecated.”\n"
     ]
    },
    {
     "data": {
      "text/plain": [
       "Linear Discriminant Analysis \n",
       "\n",
       "2032 samples\n",
       "1418 predictors\n",
       "   4 classes: 'anger', 'disgust', 'happy', 'sad' \n",
       "\n",
       "No pre-processing\n",
       "Resampling: Cross-Validated (5 fold) \n",
       "Summary of sample sizes: 1626, 1627, 1625, 1626, 1624 \n",
       "Resampling results:\n",
       "\n",
       "  Accuracy   Kappa    \n",
       "  0.7130775  0.6081665\n"
      ]
     },
     "metadata": {},
     "output_type": "display_data"
    }
   ],
   "source": [
    "# Fitting classifier models from ISLR Chapter 4\n",
    "trcntr = trainControl('cv', number = 5, p = .8)\n",
    "\n",
    "# Creating one dataset to fit the other models on\n",
    "head(train_data)[,1415:1416]\n",
    "data_lda = train_data %>%\n",
    "           as.tibble() %>%\n",
    "           select(-c(D_x2ybar, D_xy2bar))\n",
    "\n",
    "# Fitting the lda model\n",
    "lda_fit = caret::train(y = y[TrainIndex], x = data_lda[TrainIndex,],\n",
    "                            method = 'lda',\n",
    "                            trControl = trcntr)\n",
    "lda_fit"
   ]
  },
  {
   "cell_type": "markdown",
   "id": "de4503fe",
   "metadata": {
    "papermill": {
     "duration": 0.069836,
     "end_time": "2021-10-22T09:26:01.854937",
     "exception": false,
     "start_time": "2021-10-22T09:26:01.785101",
     "status": "completed"
    },
    "tags": []
   },
   "source": [
    "# KNN/KNNs\n",
    "\n"
   ]
  },
  {
   "cell_type": "code",
   "execution_count": 31,
   "id": "f74a6756",
   "metadata": {
    "execution": {
     "iopub.execute_input": "2021-10-22T09:26:02.003429Z",
     "iopub.status.busy": "2021-10-22T09:26:02.001622Z",
     "iopub.status.idle": "2021-10-22T09:27:59.112671Z",
     "shell.execute_reply": "2021-10-22T09:27:59.113224Z"
    },
    "papermill": {
     "duration": 117.188931,
     "end_time": "2021-10-22T09:27:59.113418",
     "exception": false,
     "start_time": "2021-10-22T09:26:01.924487",
     "status": "completed"
    },
    "tags": []
   },
   "outputs": [
    {
     "data": {
      "text/plain": [
       "k-Nearest Neighbors \n",
       "\n",
       "2032 samples\n",
       "1420 predictors\n",
       "   4 classes: 'anger', 'disgust', 'happy', 'sad' \n",
       "\n",
       "No pre-processing\n",
       "Resampling: Cross-Validated (5 fold) \n",
       "Summary of sample sizes: 1625, 1626, 1625, 1626, 1626 \n",
       "Resampling results across tuning parameters:\n",
       "\n",
       "  k  Accuracy   Kappa    \n",
       "  5  0.5000085  0.3056441\n",
       "  7  0.4827695  0.2789582\n",
       "  9  0.4886808  0.2834717\n",
       "\n",
       "Accuracy was used to select the optimal model using the largest value.\n",
       "The final value used for the model was k = 5."
      ]
     },
     "metadata": {},
     "output_type": "display_data"
    }
   ],
   "source": [
    "# KNN\n",
    "fit_knn = caret::train(y = y[TrainIndex], \n",
    "                       x = train_data[TrainIndex,],\n",
    "                       method = 'knn',\n",
    "                       trControl = trcntr)\n",
    "fit_knn"
   ]
  },
  {
   "cell_type": "code",
   "execution_count": 32,
   "id": "5da9239b",
   "metadata": {
    "execution": {
     "iopub.execute_input": "2021-10-22T09:27:59.263893Z",
     "iopub.status.busy": "2021-10-22T09:27:59.262260Z",
     "iopub.status.idle": "2021-10-22T09:30:00.163154Z",
     "shell.execute_reply": "2021-10-22T09:30:00.163632Z"
    },
    "papermill": {
     "duration": 120.979123,
     "end_time": "2021-10-22T09:30:00.163804",
     "exception": false,
     "start_time": "2021-10-22T09:27:59.184681",
     "status": "completed"
    },
    "tags": []
   },
   "outputs": [
    {
     "data": {
      "text/plain": [
       "k-Nearest Neighbors \n",
       "\n",
       "2032 samples\n",
       "1420 predictors\n",
       "   4 classes: 'anger', 'disgust', 'happy', 'sad' \n",
       "\n",
       "Pre-processing: scaled (1420) \n",
       "Resampling: Cross-Validated (5 fold) \n",
       "Summary of sample sizes: 1626, 1625, 1626, 1625, 1626 \n",
       "Resampling results across tuning parameters:\n",
       "\n",
       "  k  Accuracy   Kappa    \n",
       "  5  0.7101233  0.5996029\n",
       "  7  0.6992944  0.5836399\n",
       "  9  0.6914283  0.5714920\n",
       "\n",
       "Accuracy was used to select the optimal model using the largest value.\n",
       "The final value used for the model was k = 5."
      ]
     },
     "metadata": {},
     "output_type": "display_data"
    }
   ],
   "source": [
    "# KNNS\n",
    "fit_knns = caret::train(y = y[TrainIndex],\n",
    "                        x = train_data[TrainIndex,],\n",
    "                        method = 'knn',\n",
    "                        trControl = trcntr, \n",
    "                       preProcess = \"scale\")\n",
    "fit_knns"
   ]
  },
  {
   "cell_type": "markdown",
   "id": "8c102230",
   "metadata": {
    "papermill": {
     "duration": 0.069765,
     "end_time": "2021-10-22T09:30:00.303006",
     "exception": false,
     "start_time": "2021-10-22T09:30:00.233241",
     "status": "completed"
    },
    "tags": []
   },
   "source": [
    "# Support vector machine"
   ]
  },
  {
   "cell_type": "code",
   "execution_count": 33,
   "id": "04de7516",
   "metadata": {
    "execution": {
     "iopub.execute_input": "2021-10-22T09:30:00.448924Z",
     "iopub.status.busy": "2021-10-22T09:30:00.447169Z",
     "iopub.status.idle": "2021-10-22T09:38:41.028291Z",
     "shell.execute_reply": "2021-10-22T09:38:41.027294Z"
    },
    "papermill": {
     "duration": 520.655609,
     "end_time": "2021-10-22T09:38:41.028471",
     "exception": false,
     "start_time": "2021-10-22T09:30:00.372862",
     "status": "completed"
    },
    "tags": []
   },
   "outputs": [
    {
     "data": {
      "text/plain": [
       "\n",
       "Call:\n",
       "best.svm(x = y ~ ., data = data.frame(train_data[TrainIndex, ], y = as.factor(y[TrainIndex])), \n",
       "    kernel = \"radial\", gama = c(0.5, 1, 2, 3, 4), range = list(cost = c(0.001, \n",
       "        0.01, 0.1, 1, 5, 10)))\n",
       "\n",
       "\n",
       "Parameters:\n",
       "   SVM-Type:  C-classification \n",
       " SVM-Kernel:  radial \n",
       "       cost:  1 \n",
       "\n",
       "Number of Support Vectors:  1777\n"
      ]
     },
     "metadata": {},
     "output_type": "display_data"
    }
   ],
   "source": [
    "tune_svm = e1071::tune.svm(y ~., \n",
    "                       data = data.frame(train_data[TrainIndex,], y = as.factor(y[TrainIndex])), \n",
    "                       kernel = 'radial',\n",
    "                       gama = c(0.5,1,2,3,4),\n",
    "                       range = list(cost = c(0.001,0.01,0.1,1,5,10)))\n",
    "\n",
    "\n",
    "tune_svm$best.model # The best cost is 1 so we chose cost = 1 for the model\n",
    "\n",
    "fit_svm = e1071::svm(y~., data = data.frame(train_data[TrainIndex,], y = as.factor(y[TrainIndex])), cost = 1, \n",
    "                scale = TRUE, kernel = 'radial')"
   ]
  },
  {
   "cell_type": "markdown",
   "id": "d1ea52ac",
   "metadata": {
    "papermill": {
     "duration": 0.07201,
     "end_time": "2021-10-22T09:38:41.189233",
     "exception": false,
     "start_time": "2021-10-22T09:38:41.117223",
     "status": "completed"
    },
    "tags": []
   },
   "source": [
    "# Model Comparison\n"
   ]
  },
  {
   "cell_type": "code",
   "execution_count": 34,
   "id": "4da523ab",
   "metadata": {
    "execution": {
     "iopub.execute_input": "2021-10-22T09:38:41.343930Z",
     "iopub.status.busy": "2021-10-22T09:38:41.343237Z",
     "iopub.status.idle": "2021-10-22T09:39:28.412697Z",
     "shell.execute_reply": "2021-10-22T09:39:28.413294Z"
    },
    "papermill": {
     "duration": 47.15291,
     "end_time": "2021-10-22T09:39:28.413484",
     "exception": false,
     "start_time": "2021-10-22T09:38:41.260574",
     "status": "completed"
    },
    "tags": []
   },
   "outputs": [
    {
     "data": {
      "image/png": "[encoded data removed]"
     },
     "metadata": {
      "image/png": {
       "height": 240,
       "width": 960
      }
     },
     "output_type": "display_data"
    }
   ],
   "source": [
    "# list of the fitted models\n",
    "models = list(ridge_fit = ridge_fit,\n",
    "              lasso_fit = lasso_fit,\n",
    "              fit_tree = fit_tree, \n",
    "              lda_fit = lda_fit,\n",
    "              fit_knn = fit_knn, \n",
    "              fit_knns = fit_knns,\n",
    "              fit_svm = fit_svm)  \n",
    "\n",
    "# extract the cross-validated accuracies from each model\n",
    "predictions = sapply(models, function(x) predict(x, train_data[-TrainIndex,], type='raw')) \n",
    "Acc = colMeans(predictions == y[-TrainIndex]) %>% sort()              \n",
    "\n",
    "# make a barplot with accuracy shown: inspired by group 9\n",
    "plot = barplot(Acc, col = (Acc == max(Acc))+1, \n",
    "horiz = TRUE, las=1, xlim = c(0,1.1), main = \"Crossvalidated Accuracy\")\n",
    "text(Acc + strwidth(\"__0.000\"), plot, round(Acc,3))"
   ]
  },
  {
   "cell_type": "markdown",
   "id": "e33b4a6f",
   "metadata": {
    "papermill": {
     "duration": 0.077297,
     "end_time": "2021-10-22T09:39:28.564144",
     "exception": false,
     "start_time": "2021-10-22T09:39:28.486847",
     "status": "completed"
    },
    "tags": []
   },
   "source": [
    "# The Final Model\n",
    "\n",
    "We crossvalidated the data into a 80/20 split to see which model would perform best on our created testset. Both the ridge model and the svm model had a very high prediction accuracy with the support vector machine model coming out on top. Ridge regression and support vector machines are very closely related to one another so seeing them so close to each other makes sense. Lasso was 3rd best in prediction accuracy. After lasso the accuracy of the other models were quit a bit lower. We think that the ridge regression model and the support vector machines will perform very similar on the real testset but the support vector machines will probably perform a bit better. Also because the support vector machine model is more flexible model compared to the ridge regression model. Therefore our final model is the support vector machine model."
   ]
  },
  {
   "cell_type": "markdown",
   "id": "f62d3194",
   "metadata": {
    "papermill": {
     "duration": 0.073913,
     "end_time": "2021-10-22T09:39:28.711999",
     "exception": false,
     "start_time": "2021-10-22T09:39:28.638086",
     "status": "completed"
    },
    "tags": []
   },
   "source": [
    "## The bias variance trade off\n",
    "- While ridge regression is a model that is sensitive to more variance but minimizes bias, the lasso regression is more sensitive to bias and tries to minimize variance. Interesting to see is that in this case the ridge regression outperformed the lasso regression even though a lot of variables were introduced to the models.\n",
    "- While lasso and ridge regression are models that are less flexible but highly interpretable, the support vector machine model is the opposite. the svm model is difficult to understand but in this case we want the prediction accuracy to be as high as possible so we are less interested in the interpretability of the model. The support vector machine model has low bias and high variance, just like the ridge regression. The trade-off between between bias and variance can be changed by increasing the C parameter (which we optimised at 1).\n",
    "- We can conclude from our model comparison that models that had low bias and high variance (ridge and svm) outperformed models that had a high bias and a low variance (lasso, lda) on this dataset. "
   ]
  },
  {
   "cell_type": "markdown",
   "id": "468dcc74",
   "metadata": {
    "papermill": {
     "duration": 0.075873,
     "end_time": "2021-10-22T09:39:28.863680",
     "exception": false,
     "start_time": "2021-10-22T09:39:28.787807",
     "status": "completed"
    },
    "tags": []
   },
   "source": [
    "# Formatting your submission file\n",
    "\n",
    "To format your submission file,we first have to run our final model on the whole trainigset. After that the predictions on the testset are made."
   ]
  },
  {
   "cell_type": "code",
   "execution_count": 35,
   "id": "304d554c",
   "metadata": {
    "execution": {
     "iopub.execute_input": "2021-10-22T09:39:29.020171Z",
     "iopub.status.busy": "2021-10-22T09:39:29.018810Z",
     "iopub.status.idle": "2021-10-22T09:40:53.288318Z",
     "shell.execute_reply": "2021-10-22T09:40:53.287521Z"
    },
    "papermill": {
     "duration": 84.350602,
     "end_time": "2021-10-22T09:40:53.288490",
     "exception": false,
     "start_time": "2021-10-22T09:39:28.937888",
     "status": "completed"
    },
    "tags": []
   },
   "outputs": [],
   "source": [
    "fit_svm_final = e1071::svm(y~., data = data.frame(train_data, y = as.factor(y)), cost = 1, \n",
    "                scale = TRUE, kernel = 'radial')\n",
    "pred_svm = predict(fit_svm_final, test_data, type = \"raw\")"
   ]
  },
  {
   "cell_type": "code",
   "execution_count": 36,
   "id": "6d058c5d",
   "metadata": {
    "execution": {
     "iopub.execute_input": "2021-10-22T09:40:53.443684Z",
     "iopub.status.busy": "2021-10-22T09:40:53.442112Z",
     "iopub.status.idle": "2021-10-22T09:40:53.592404Z",
     "shell.execute_reply": "2021-10-22T09:40:53.591239Z"
    },
    "papermill": {
     "duration": 0.229315,
     "end_time": "2021-10-22T09:40:53.592600",
     "exception": false,
     "start_time": "2021-10-22T09:40:53.363285",
     "status": "completed"
    },
    "tags": []
   },
   "outputs": [
    {
     "name": "stderr",
     "output_type": "stream",
     "text": [
      "Warning message:\n",
      "“The `path` argument of `write_csv()` is deprecated as of readr 1.4.0.\n",
      "Please use the `file` argument instead.\n",
      "\u001b[90mThis warning is displayed once every 8 hours.\u001b[39m\n",
      "\u001b[90mCall `lifecycle::last_warnings()` to see where this warning was generated.\u001b[39m”\n"
     ]
    },
    {
     "name": "stdout",
     "output_type": "stream",
     "text": [
      "file,category\n",
      "S010_004_00000017a.png,anger\n",
      "S010_004_00000017b.png,anger\n",
      "S010_004_00000017c.png,anger\n",
      "S010_004_00000017d.png,anger\n",
      "S010_004_00000017e.png,disgust\n",
      "S010_004_00000017f.png,anger\n",
      "S011_002_00000022a.png,sad\n",
      "S011_002_00000022b.png,sad\n",
      "S011_002_00000022c.png,sad\n",
      "S011_002_00000022d.png,sad\n",
      "S011_002_00000022e.png,sad\n",
      "S011_002_00000022f.png,sad\n",
      "S011_005_00000018a.png,disgust\n",
      "S011_005_00000018b.png,disgust\n",
      "S011_005_00000018c.png,disgust\n",
      "S011_005_00000018d.png,disgust\n",
      "S011_005_00000018e.png,disgust\n",
      "S011_005_00000018f.png,disgust\n",
      "S011_006_00000013a.png,happy\n"
     ]
    }
   ],
   "source": [
    "# Write to file\n",
    "tibble(file = rownames(X_test), category = as.vector(pred_svm)) %>% \n",
    "    write_csv(path = \"submission.csv\")\n",
    "\n",
    "## Check result\n",
    "cat(readLines(\"submission.csv\",n=20), sep=\"\\n\")"
   ]
  },
  {
   "cell_type": "markdown",
   "id": "e21b7330",
   "metadata": {
    "papermill": {
     "duration": 0.07327,
     "end_time": "2021-10-22T09:40:53.740009",
     "exception": false,
     "start_time": "2021-10-22T09:40:53.666739",
     "status": "completed"
    },
    "tags": []
   },
   "source": [
    "# Division of labor\n",
    "- Getting started with the first model and prediction: Jessica, Zena, Thomas\n",
    "- Creating the first lasso model: Jessica, Zena, Thomas\n",
    "- Creating the hog features: Jessica\n",
    "- Creating the FreySlateFeatures: Zena\n",
    "- Creating different models and model comparison: Thomas\n",
    "- Add the svm model: Jessica, Zena\n",
    "- Making the model comparison work: Jessica, Thomas\n",
    "- Final remarks about chosen model and bias variance trade off: Thomas"
   ]
  }
 ],
 "metadata": {
  "kernelspec": {
   "display_name": "R",
   "language": "R",
   "name": "ir"
  },
  "language_info": {
   "codemirror_mode": "r",
   "file_extension": ".r",
   "mimetype": "text/x-r-source",
   "name": "R",
   "pygments_lexer": "r",
   "version": "4.0.5"
  },
  "papermill": {
   "default_parameters": {},
   "duration": 1527.173145,
   "end_time": "2021-10-22T09:40:54.027015",
   "environment_variables": {},
   "exception": null,
   "input_path": "__notebook__.ipynb",
   "output_path": "__notebook__.ipynb",
   "parameters": {},
   "start_time": "2021-10-22T09:15:26.853870",
   "version": "2.3.3"
  }
 },
 "nbformat": 4,
 "nbformat_minor": 5
}
